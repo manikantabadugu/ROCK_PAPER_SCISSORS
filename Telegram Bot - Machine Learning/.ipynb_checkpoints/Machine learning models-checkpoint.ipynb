{
 "cells": [
  {
   "cell_type": "code",
   "execution_count": 1,
   "metadata": {},
   "outputs": [],
   "source": [
    "from sklearn import metrics    \n",
    "import time\n",
    "from sklearn.metrics import accuracy_score\n",
    "from sklearn.metrics import confusion_matrix\n",
    "from sklearn.model_selection import train_test_split\n",
    "import numpy as np \n",
    "from PIL import Image\n",
    "import os\n",
    "import pandas as pd\n",
    "from sklearn.preprocessing import StandardScaler\n",
    "import seaborn as sns\n",
    "from sklearn.tree          import DecisionTreeClassifier\n",
    "from sklearn.ensemble      import RandomForestClassifier\n",
    "from sklearn.ensemble      import ExtraTreesClassifier\n",
    "from sklearn.ensemble      import AdaBoostClassifier\n",
    "from sklearn.ensemble      import GradientBoostingClassifier\n",
    "from sklearn.experimental  import enable_hist_gradient_boosting \n",
    "# Necesary for HistGradientBoostingClassifier\n",
    "from sklearn.ensemble      import HistGradientBoostingClassifier\n",
    "#from xgboost               import XGBClassifier\n",
    "#from lightgbm              import LGBMClassifier\n",
    "#from catboost              import CatBoostClassifier\n",
    "import joblib\n",
    "import sys\n"
   ]
  },
  {
   "cell_type": "code",
   "execution_count": null,
   "metadata": {},
   "outputs": [],
   "source": [
    "#Rock= 0\n",
    "#Paper=1\n",
    "#Scissor=2"
   ]
  },
  {
   "cell_type": "code",
   "execution_count": 2,
   "metadata": {},
   "outputs": [
    {
     "name": "stdout",
     "output_type": "stream",
     "text": [
      "Original shape\n",
      "(662, 1025)\n",
      "Size after concatination\n",
      "(662, 1025)\n",
      "Original shape\n",
      "(638, 1025)\n",
      "Size after concatination\n",
      "(1300, 1025)\n",
      "Original shape\n",
      "(689, 1025)\n",
      "Size after concatination\n",
      "(1989, 1025)\n",
      "Original shape\n",
      "(363, 1025)\n",
      "Size after concatenation\n",
      "(363, 1025)\n",
      "Original shape\n",
      "(328, 1025)\n",
      "Size after concatenation\n",
      "(691, 1025)\n",
      "Original shape\n",
      "(365, 1025)\n",
      "Size after concatenation\n",
      "(1056, 1025)\n"
     ]
    }
   ],
   "source": [
    "path = 'images'\n",
    "data1 = pd.DataFrame ()\n",
    "data2= pd.DataFrame()\n",
    "for folder in os.listdir(path):\n",
    "    if folder == 'train':\n",
    "    \n",
    "        for f in os.listdir (path + '/' + folder):\n",
    "            class_data = np.zeros ( (len(os.listdir (path + '/' + folder + '/' + f )), 1025) ) #creating a numpy array equal to size of training data\n",
    "            print('Original shape')\n",
    "            print (class_data.shape)\n",
    "        \n",
    "            for i, img_name in enumerate (os.listdir (path + '/' + folder + '/' + f )):\n",
    "\n",
    "                img = Image.open (path + '/' + folder + '/' + f + '/' + img_name)\n",
    "                img_arr = np.array (img, dtype = int) #converting image to array which is later stored as csv file  \n",
    "                img_arr = img_arr.flatten()\n",
    "                \n",
    "                class_data [i, :1024] = img_arr\n",
    "                class_data [i, 1024]  = int (f)  #assigning target to the last column \n",
    "\n",
    "            class_data = pd.DataFrame (class_data)\n",
    "            data1 = pd.concat ([data1, class_data]) #adding data of each image in each cycle, which is later converted to a pandas dataframe\n",
    "            print('Size after concatination')\n",
    "            print(data1.shape)\n",
    "    else:\n",
    "        for f in os.listdir (path + '/' + folder): #same processs is done to the training data as well\n",
    "            class_data = np.zeros ( (len(os.listdir (path + '/' + folder + '/' + f )), 1025) )\n",
    "            print('Original shape')\n",
    "            print (class_data.shape)\n",
    "        \n",
    "            for i, img_name in enumerate (os.listdir (path + '/' + folder + '/' + f )):\n",
    "\n",
    "                img = Image.open (path + '/' + folder + '/' + f + '/' + img_name)\n",
    "                img_arr = np.array (img, dtype = int)\n",
    "                img_arr = img_arr.flatten()\n",
    "                \n",
    "                class_data [i, :1024] = img_arr\n",
    "                class_data [i, 1024]  = int (f)  #assigning target to the last column \n",
    "\n",
    "            class_data = pd.DataFrame (class_data)\n",
    "            data2 = pd.concat ([data2, class_data]) #a dataframe of test data is stored as well as data2\n",
    "            print('Size after concatenation')\n",
    "            print(data2.shape)\n",
    "\n",
    "            \n",
    "data1.to_csv ('train_game.csv')\n",
    "data2.to_csv('test_game.csv')\n",
    "\n",
    "            \n"
   ]
  },
  {
   "cell_type": "code",
   "execution_count": 3,
   "metadata": {},
   "outputs": [
    {
     "data": {
      "text/plain": [
       "(1056, 1025)"
      ]
     },
     "execution_count": 3,
     "metadata": {},
     "output_type": "execute_result"
    }
   ],
   "source": [
    "data2.iloc[:,-1].unique()\n",
    "data2.shape"
   ]
  },
  {
   "cell_type": "code",
   "execution_count": 4,
   "metadata": {},
   "outputs": [
    {
     "data": {
      "text/plain": [
       "(1989, 1025)"
      ]
     },
     "execution_count": 4,
     "metadata": {},
     "output_type": "execute_result"
    }
   ],
   "source": [
    "\n",
    "#checking target column\n",
    "\n",
    "data1.iloc[:,-1].unique()\n",
    "data1.shape"
   ]
  },
  {
   "cell_type": "code",
   "execution_count": 5,
   "metadata": {},
   "outputs": [],
   "source": [
    "X_tr = data1.iloc[:,:1024]\n",
    "y_tr = data1.iloc[:,1024]\n",
    "\n",
    "X_val = data2.iloc[:,:1024]\n",
    "y_val = data2.iloc[:,1024]"
   ]
  },
  {
   "cell_type": "code",
   "execution_count": 6,
   "metadata": {},
   "outputs": [],
   "source": [
    "scaler = StandardScaler()\n",
    "\n",
    "#normalizing the data\n",
    "data_norm_train = scaler.fit_transform(X_tr)\n",
    "data_norm_test = scaler.transform(X_val)\n"
   ]
  },
  {
   "cell_type": "code",
   "execution_count": null,
   "metadata": {},
   "outputs": [],
   "source": [
    "#sns.histplot(data=data_norm, bins=10)"
   ]
  },
  {
   "cell_type": "code",
   "execution_count": 7,
   "metadata": {},
   "outputs": [],
   "source": [
    "tree_classifiers = {\n",
    "  \"Decision Tree\": DecisionTreeClassifier(),\n",
    "  \"Extra Trees\":   ExtraTreesClassifier(),\n",
    "  \"Random Forest\": RandomForestClassifier(),\n",
    "  \"AdaBoost\":      AdaBoostClassifier(),\n",
    "  \"Skl GBM\":       GradientBoostingClassifier(),\n",
    "  \"Skl HistGBM\":   GradientBoostingClassifier(),\n",
    "  #\"XGBoost\":       XGBClassifier(),\n",
    "  #\"LightGBM\":      LGBMClassifier(),\n",
    "  #\"CatBoost\":      CatBoostClassifier() \n",
    "}"
   ]
  },
  {
   "cell_type": "code",
   "execution_count": 8,
   "metadata": {},
   "outputs": [
    {
     "data": {
      "text/html": [
       "<style  type=\"text/css\" >\n",
       "#T_ce386_row0_col1,#T_ce386_row0_col2{\n",
       "            width:  10em;\n",
       "             height:  80%;\n",
       "            background:  linear-gradient(90deg,#5fba7d 92.6%, transparent 92.6%);\n",
       "        }#T_ce386_row1_col1{\n",
       "            width:  10em;\n",
       "             height:  80%;\n",
       "            background:  linear-gradient(90deg,#5fba7d 92.0%, transparent 92.0%);\n",
       "        }#T_ce386_row1_col2{\n",
       "            width:  10em;\n",
       "             height:  80%;\n",
       "            background:  linear-gradient(90deg,#5fba7d 91.9%, transparent 91.9%);\n",
       "        }#T_ce386_row2_col1{\n",
       "            width:  10em;\n",
       "             height:  80%;\n",
       "            background:  linear-gradient(90deg,#5fba7d 88.2%, transparent 88.2%);\n",
       "        }#T_ce386_row2_col2{\n",
       "            width:  10em;\n",
       "             height:  80%;\n",
       "            background:  linear-gradient(90deg,#5fba7d 88.1%, transparent 88.1%);\n",
       "        }#T_ce386_row3_col1{\n",
       "            width:  10em;\n",
       "             height:  80%;\n",
       "            background:  linear-gradient(90deg,#5fba7d 86.8%, transparent 86.8%);\n",
       "        }#T_ce386_row3_col2{\n",
       "            width:  10em;\n",
       "             height:  80%;\n",
       "            background:  linear-gradient(90deg,#5fba7d 86.7%, transparent 86.7%);\n",
       "        }#T_ce386_row4_col1{\n",
       "            width:  10em;\n",
       "             height:  80%;\n",
       "            background:  linear-gradient(90deg,#5fba7d 79.3%, transparent 79.3%);\n",
       "        }#T_ce386_row4_col2{\n",
       "            width:  10em;\n",
       "             height:  80%;\n",
       "            background:  linear-gradient(90deg,#5fba7d 79.1%, transparent 79.1%);\n",
       "        }#T_ce386_row5_col1{\n",
       "            width:  10em;\n",
       "             height:  80%;\n",
       "            background:  linear-gradient(90deg,#5fba7d 72.9%, transparent 72.9%);\n",
       "        }#T_ce386_row5_col2{\n",
       "            width:  10em;\n",
       "             height:  80%;\n",
       "            background:  linear-gradient(90deg,#5fba7d 72.8%, transparent 72.8%);\n",
       "        }</style><table id=\"T_ce386_\" ><thead>    <tr>        <th class=\"blank level0\" ></th>        <th class=\"col_heading level0 col0\" >Model</th>        <th class=\"col_heading level0 col1\" >Accuracy</th>        <th class=\"col_heading level0 col2\" >Bal Acc.</th>        <th class=\"col_heading level0 col3\" >Time</th>        <th class=\"col_heading level0 col4\" >Confusion Matrix</th>    </tr></thead><tbody>\n",
       "                <tr>\n",
       "                        <th id=\"T_ce386_level0_row0\" class=\"row_heading level0 row0\" >1</th>\n",
       "                        <td id=\"T_ce386_row0_col0\" class=\"data row0 col0\" >Extra Trees</td>\n",
       "                        <td id=\"T_ce386_row0_col1\" class=\"data row0 col1\" >92.613636</td>\n",
       "                        <td id=\"T_ce386_row0_col2\" class=\"data row0 col2\" >92.588500</td>\n",
       "                        <td id=\"T_ce386_row0_col3\" class=\"data row0 col3\" >1.384001</td>\n",
       "                        <td id=\"T_ce386_row0_col4\" class=\"data row0 col4\" >[[343  15   5]\n",
       " [ 22 301   5]\n",
       " [ 20  11 334]]</td>\n",
       "            </tr>\n",
       "            <tr>\n",
       "                        <th id=\"T_ce386_level0_row1\" class=\"row_heading level0 row1\" >2</th>\n",
       "                        <td id=\"T_ce386_row1_col0\" class=\"data row1 col0\" >Random Forest</td>\n",
       "                        <td id=\"T_ce386_row1_col1\" class=\"data row1 col1\" >91.950758</td>\n",
       "                        <td id=\"T_ce386_row1_col2\" class=\"data row1 col2\" >91.928124</td>\n",
       "                        <td id=\"T_ce386_row1_col3\" class=\"data row1 col3\" >1.331021</td>\n",
       "                        <td id=\"T_ce386_row1_col4\" class=\"data row1 col4\" >[[342  16   5]\n",
       " [ 24 299   5]\n",
       " [ 19  16 330]]</td>\n",
       "            </tr>\n",
       "            <tr>\n",
       "                        <th id=\"T_ce386_level0_row2\" class=\"row_heading level0 row2\" >3</th>\n",
       "                        <td id=\"T_ce386_row2_col0\" class=\"data row2 col0\" >Skl HistGBM</td>\n",
       "                        <td id=\"T_ce386_row2_col1\" class=\"data row2 col1\" >88.162879</td>\n",
       "                        <td id=\"T_ce386_row2_col2\" class=\"data row2 col2\" >88.051773</td>\n",
       "                        <td id=\"T_ce386_row2_col3\" class=\"data row2 col3\" >19.435999</td>\n",
       "                        <td id=\"T_ce386_row2_col4\" class=\"data row2 col4\" >[[328  19  16]\n",
       " [ 33 278  17]\n",
       " [ 22  18 325]]</td>\n",
       "            </tr>\n",
       "            <tr>\n",
       "                        <th id=\"T_ce386_level0_row3\" class=\"row_heading level0 row3\" >4</th>\n",
       "                        <td id=\"T_ce386_row3_col0\" class=\"data row3 col0\" >Skl GBM</td>\n",
       "                        <td id=\"T_ce386_row3_col1\" class=\"data row3 col1\" >86.837121</td>\n",
       "                        <td id=\"T_ce386_row3_col2\" class=\"data row3 col2\" >86.716191</td>\n",
       "                        <td id=\"T_ce386_row3_col3\" class=\"data row3 col3\" >19.582000</td>\n",
       "                        <td id=\"T_ce386_row3_col4\" class=\"data row3 col4\" >[[317  27  19]\n",
       " [ 39 273  16]\n",
       " [ 16  22 327]]</td>\n",
       "            </tr>\n",
       "            <tr>\n",
       "                        <th id=\"T_ce386_level0_row4\" class=\"row_heading level0 row4\" >5</th>\n",
       "                        <td id=\"T_ce386_row4_col0\" class=\"data row4 col0\" >Decision Tree</td>\n",
       "                        <td id=\"T_ce386_row4_col1\" class=\"data row4 col1\" >79.261364</td>\n",
       "                        <td id=\"T_ce386_row4_col2\" class=\"data row4 col2\" >79.108722</td>\n",
       "                        <td id=\"T_ce386_row4_col3\" class=\"data row4 col3\" >0.344999</td>\n",
       "                        <td id=\"T_ce386_row4_col4\" class=\"data row4 col4\" >[[291  37  35]\n",
       " [ 41 245  42]\n",
       " [ 18  46 301]]</td>\n",
       "            </tr>\n",
       "            <tr>\n",
       "                        <th id=\"T_ce386_level0_row5\" class=\"row_heading level0 row5\" >6</th>\n",
       "                        <td id=\"T_ce386_row5_col0\" class=\"data row5 col0\" >AdaBoost</td>\n",
       "                        <td id=\"T_ce386_row5_col1\" class=\"data row5 col1\" >72.916667</td>\n",
       "                        <td id=\"T_ce386_row5_col2\" class=\"data row5 col2\" >72.769875</td>\n",
       "                        <td id=\"T_ce386_row5_col3\" class=\"data row5 col3\" >2.412992</td>\n",
       "                        <td id=\"T_ce386_row5_col4\" class=\"data row5 col4\" >[[263  70  30]\n",
       " [ 79 225  24]\n",
       " [ 21  62 282]]</td>\n",
       "            </tr>\n",
       "    </tbody></table>"
      ],
      "text/plain": [
       "<pandas.io.formats.style.Styler at 0x26d52e4feb0>"
      ]
     },
     "execution_count": 8,
     "metadata": {},
     "output_type": "execute_result"
    }
   ],
   "source": [
    "x_train, x_test, y_train, y_test = train_test_split(X_tr, y_tr, test_size=0.2, random_state=42, stratify=y_tr)\n",
    "\n",
    "\n",
    "\n",
    "\n",
    "results = pd.DataFrame({'Model': [], 'Accuracy': [], 'Bal Acc.': [], 'Time': []})\n",
    "\n",
    "\n",
    "for model_name, model in tree_classifiers.items(): # FOR EVERY PIPELINE (PREPRO + MODEL) -> TRAIN WITH TRAIN DATA (x_train)\n",
    "    start_time = time.time()\n",
    "    model.fit(x_train, y_train)\n",
    "    pred = model.predict(X_val)    # GET PREDICTIONS USING x_val\n",
    "    total_time = time.time() - start_time\n",
    "\n",
    "    results = results.append({\"Model\":    model_name,\n",
    "                              \"Confusion Matrix\": confusion_matrix(y_val, pred),\n",
    "                              \"Accuracy\": metrics.accuracy_score(y_val, pred)*100,\n",
    "                              \"Bal Acc.\": metrics.balanced_accuracy_score(y_val, pred)*100,\n",
    "                              \"Time\":     total_time},\n",
    "                              ignore_index=True)\n",
    "    \n",
    "                              \n",
    "                              \n",
    "\n",
    " \n",
    "\n",
    "\n",
    "\n",
    "results_ord = results.sort_values(by=['Accuracy'], ascending=False, ignore_index=True)\n",
    "results_ord.index += 1 \n",
    "results_ord.style.bar(subset=['Accuracy', 'Bal Acc.'], vmin=0, vmax=100, color='#5fba7d')"
   ]
  },
  {
   "cell_type": "code",
   "execution_count": 9,
   "metadata": {},
   "outputs": [
    {
     "data": {
      "text/plain": [
       "'Extra Trees'"
      ]
     },
     "execution_count": 9,
     "metadata": {},
     "output_type": "execute_result"
    }
   ],
   "source": [
    "#Automatically chooses the best model\n",
    "\n",
    "# Your code goes here\n",
    "\n",
    "#results_ord = results.sort_values(by=['Accuracy'], ascending=False, ignore_index=True)\n",
    "#results_ord.index += 1 \n",
    "#results_ord.style.bar(subset=['Accuracy', 'Bal Acc.'], vmin=0, vmax=100, color='#5fba7d')\n",
    "\n",
    "best_model_string = results_ord.iloc[0,0]\n",
    "best_model_string"
   ]
  },
  {
   "cell_type": "code",
   "execution_count": 10,
   "metadata": {},
   "outputs": [
    {
     "data": {
      "text/plain": [
       "['best_model_2.sav']"
      ]
     },
     "execution_count": 10,
     "metadata": {},
     "output_type": "execute_result"
    }
   ],
   "source": [
    "#saving model\n",
    "\n",
    "\n",
    "model = tree_classifiers[best_model_string]\n",
    "model_choice = 'best_model_2.sav'\n",
    "joblib.dump(model, model_choice)"
   ]
  },
  {
   "cell_type": "code",
   "execution_count": 11,
   "metadata": {},
   "outputs": [
    {
     "name": "stdout",
     "output_type": "stream",
     "text": [
      "0.9261363636363636\n"
     ]
    }
   ],
   "source": [
    "#loading model\n",
    "loaded_model = joblib.load(model_choice)\n",
    "result = loaded_model.score(X_val, y_val)\n",
    "print(result)"
   ]
  },
  {
   "cell_type": "code",
   "execution_count": null,
   "metadata": {},
   "outputs": [],
   "source": [
    "#Testing the model with sample image called 'rawimage'"
   ]
  },
  {
   "cell_type": "code",
   "execution_count": 16,
   "metadata": {},
   "outputs": [
    {
     "ename": "ModuleNotFoundError",
     "evalue": "No module named 'mediapipe'",
     "output_type": "error",
     "traceback": [
      "\u001b[1;31m---------------------------------------------------------------------------\u001b[0m",
      "\u001b[1;31mModuleNotFoundError\u001b[0m                       Traceback (most recent call last)",
      "\u001b[1;32m<ipython-input-16-c1e134f7bf83>\u001b[0m in \u001b[0;36m<module>\u001b[1;34m\u001b[0m\n\u001b[0;32m      2\u001b[0m \u001b[1;33m\u001b[0m\u001b[0m\n\u001b[0;32m      3\u001b[0m \u001b[0msys\u001b[0m\u001b[1;33m.\u001b[0m\u001b[0mpath\u001b[0m\u001b[1;33m.\u001b[0m\u001b[0mappend\u001b[0m\u001b[1;33m(\u001b[0m\u001b[1;34mr\"C:\\Users\\User\\Documents\\GitHub\\practice folders\\Buildweek2.1\\Telegram Bot Project\\Telegram Bot - Machine Learning\\handgestures\"\u001b[0m\u001b[1;33m)\u001b[0m\u001b[1;33m\u001b[0m\u001b[1;33m\u001b[0m\u001b[0m\n\u001b[1;32m----> 4\u001b[1;33m \u001b[1;32mfrom\u001b[0m \u001b[0mhandgestures\u001b[0m\u001b[1;33m.\u001b[0m\u001b[0mtransform_image\u001b[0m \u001b[1;32mimport\u001b[0m \u001b[0mtransform_single_image\u001b[0m\u001b[1;33m\u001b[0m\u001b[1;33m\u001b[0m\u001b[0m\n\u001b[0m\u001b[0;32m      5\u001b[0m \u001b[1;33m\u001b[0m\u001b[0m\n\u001b[0;32m      6\u001b[0m \u001b[1;33m\u001b[0m\u001b[0m\n",
      "\u001b[1;32m~\\Documents\\GitHub\\practice folders\\Buildweek2.1\\Telegram Bot Project\\ROCK_PAPER_SCISSORS\\Telegram Bot - Machine Learning\\handgestures\\transform_image.py\u001b[0m in \u001b[0;36m<module>\u001b[1;34m\u001b[0m\n\u001b[1;32m----> 1\u001b[1;33m \u001b[1;32mimport\u001b[0m \u001b[0mmediapipe\u001b[0m \u001b[1;32mas\u001b[0m \u001b[0mmp\u001b[0m\u001b[1;33m\u001b[0m\u001b[1;33m\u001b[0m\u001b[0m\n\u001b[0m\u001b[0;32m      2\u001b[0m \u001b[1;32mimport\u001b[0m \u001b[0mcv2\u001b[0m\u001b[1;33m\u001b[0m\u001b[1;33m\u001b[0m\u001b[0m\n\u001b[0;32m      3\u001b[0m \u001b[1;33m\u001b[0m\u001b[0m\n\u001b[0;32m      4\u001b[0m \u001b[1;32mimport\u001b[0m \u001b[0msys\u001b[0m\u001b[1;33m\u001b[0m\u001b[1;33m\u001b[0m\u001b[0m\n\u001b[0;32m      5\u001b[0m \u001b[1;33m\u001b[0m\u001b[0m\n",
      "\u001b[1;31mModuleNotFoundError\u001b[0m: No module named 'mediapipe'"
     ]
    }
   ],
   "source": [
    "#Transform the Image into 32 x 32 skeleton using transform_image.py\n",
    "\n",
    "sys.path.append(r\"C:\\Users\\User\\Documents\\GitHub\\practice folders\\Buildweek2.1\\Telegram Bot Project\\Telegram Bot - Machine Learning\\handgestures\")\n",
    "from handgestures.transform_image import transform_single_image\n",
    "\n",
    "\n",
    "img = transform_single_image(rawimage)\n",
    "\n",
    "plt.imshow(img, cmap=\"gray\")\n",
    "\n",
    "\n"
   ]
  },
  {
   "cell_type": "code",
   "execution_count": null,
   "metadata": {},
   "outputs": [
    {
     "data": {
      "text/plain": [
       "(32, 32)"
      ]
     },
     "execution_count": 11,
     "metadata": {},
     "output_type": "execute_result"
    }
   ],
   "source": [
    "img.shape"
   ]
  },
  {
   "cell_type": "code",
   "execution_count": null,
   "metadata": {},
   "outputs": [
    {
     "data": {
      "text/plain": [
       "(1024,)"
      ]
     },
     "execution_count": 65,
     "metadata": {},
     "output_type": "execute_result"
    }
   ],
   "source": [
    "#Transfrom the skeleton image into a flatenned array\n",
    "img_arr = np.array(img, dtype = int)\n",
    "img_arr = img_arr.flatten()\n",
    "class_data_trail= pd.DataFrame(img_arr)\n",
    "class_data_trail=class_data_trail.transpose()\n",
    "\n",
    "img_arr.shape\n"
   ]
  },
  {
   "cell_type": "code",
   "execution_count": null,
   "metadata": {},
   "outputs": [
    {
     "name": "stdout",
     "output_type": "stream",
     "text": [
      "[2.]\n",
      "You choose SCISSORS\n"
     ]
    }
   ],
   "source": [
    "#Use the Chosen MACHINE LEARNING MODEL to classify the input\n",
    "\n",
    "\n",
    "rps_input_predict = model.predict(class_data_trail)\n",
    "\n",
    "print(rps_input_predict[0])\n",
    "\n",
    "if int(rps_input_predict[0]) == 0:\n",
    "    print(\"You choose ROCK!\")\n",
    "elif int(rps_input_predict[0]) == 1:\n",
    "    print(\"You choose PAPER!\")\n",
    "else:\n",
    "    print(\"You choose SCISSORS\")"
   ]
  },
  {
   "cell_type": "code",
   "execution_count": null,
   "metadata": {},
   "outputs": [],
   "source": []
  }
 ],
 "metadata": {
  "interpreter": {
   "hash": "0f19baa5fd3dcddffdf6ee50ac18851cc01142947c60edfe2f03a1ab8197d4f4"
  },
  "kernelspec": {
   "display_name": "Python 3",
   "language": "python",
   "name": "python3"
  },
  "language_info": {
   "codemirror_mode": {
    "name": "ipython",
    "version": 3
   },
   "file_extension": ".py",
   "mimetype": "text/x-python",
   "name": "python",
   "nbconvert_exporter": "python",
   "pygments_lexer": "ipython3",
   "version": "3.8.8"
  }
 },
 "nbformat": 4,
 "nbformat_minor": 2
}
