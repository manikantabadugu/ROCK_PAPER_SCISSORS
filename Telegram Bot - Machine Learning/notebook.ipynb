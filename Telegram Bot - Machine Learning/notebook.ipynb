{
 "cells": [
  {
   "cell_type": "code",
   "metadata": {
    "tags": [],
    "cell_id": "00000-2fd51ed2-80a4-4340-bbee-af0aff5093d7",
    "deepnote_to_be_reexecuted": false,
    "source_hash": "945d366a",
    "execution_start": 1627040053978,
    "execution_millis": 9,
    "deepnote_cell_type": "code"
   },
   "source": "# Start writing code here...\n# Imports\nimport pandas as pd\nimport numpy as np\nimport glob\n\nimport time\n\nimport sklearn\nfrom sklearn import pipeline      # Pipeline\nfrom sklearn import preprocessing # OrdinalEncoder, LabelEncoder\nfrom sklearn import impute\nfrom sklearn import compose\nfrom sklearn import model_selection # train_test_split\nfrom sklearn import metrics         # accuracy_score, balanced_accuracy_score, plot_confusion_matrix\nfrom sklearn import set_config\n\nfrom sklearn.preprocessing import MinMaxScaler\nfrom sklearn.preprocessing import MaxAbsScaler\nfrom sklearn.preprocessing import StandardScaler\nfrom sklearn.preprocessing import RobustScaler\nfrom sklearn.preprocessing import Normalizer\nfrom sklearn.preprocessing import QuantileTransformer\nfrom sklearn.preprocessing import PowerTransformer\n\nfrom sklearn.tree          import DecisionTreeRegressor\nfrom sklearn.ensemble      import RandomForestRegressor\nfrom sklearn.ensemble      import ExtraTreesRegressor\nfrom sklearn.ensemble      import AdaBoostRegressor\nfrom sklearn.ensemble      import GradientBoostingRegressor\nfrom xgboost               import XGBRegressor\nfrom lightgbm              import LGBMRegressor\nfrom catboost              import CatBoostRegressor\n\nfrom sklearn.tree          import DecisionTreeClassifier\nfrom sklearn.ensemble      import RandomForestClassifier\nfrom sklearn.ensemble      import ExtraTreesClassifier\nfrom sklearn.ensemble      import AdaBoostClassifier\nfrom sklearn.ensemble      import GradientBoostingClassifier\nfrom sklearn.experimental  import enable_hist_gradient_boosting # Necesary for HistGradientBoostingClassifier\nfrom sklearn.ensemble      import HistGradientBoostingClassifier\nfrom xgboost               import XGBClassifier\nfrom lightgbm              import LGBMClassifier\nfrom catboost              import CatBoostClassifier\n\n\nset_config(display='diagram') # Useful for display the pipeline\n\nprint(\"Pandas  \", pd.__version__)\nprint(\"Sklearn \", skl.__version__) # Try to use 0.24\n\n",
   "execution_count": null,
   "outputs": [
    {
     "name": "stdout",
     "text": "Pandas   1.2.5\nSklearn  0.24.2\n",
     "output_type": "stream"
    }
   ]
  },
  {
   "cell_type": "code",
   "metadata": {
    "tags": [],
    "cell_id": "00004-0075a1e9-039f-4a26-9cc2-2bd4086d94e6",
    "deepnote_to_be_reexecuted": false,
    "source_hash": "940d9554",
    "execution_start": 1627045941062,
    "execution_millis": 9,
    "deepnote_cell_type": "code"
   },
   "source": "import os",
   "execution_count": null,
   "outputs": []
  },
  {
   "cell_type": "markdown",
   "source": "Dataset is delimited as CSV values as follows;\n\nX ; Y; Z; Pressure; GripAngle; Timestamp; Test ID\n\n----------------\nTest ID: <br>\n0: Static Spiral Test ( Draw on the given spiral pattern)<br>\n1: Dynamic Spiral Test ( Spiral pattern will blink in a certain time, so subjects need to continue on their draw)<br>\n2: Circular Motion Test (Subjectd draw circles around the red point)",
   "metadata": {
    "tags": [],
    "cell_id": "00001-149ba2e0-85a0-440b-9c8d-075ee713c78a",
    "deepnote_cell_type": "markdown"
   }
  },
  {
   "cell_type": "code",
   "metadata": {
    "tags": [],
    "cell_id": "00001-a3b04bdb-c4ea-4433-abfb-40626a8803a0",
    "deepnote_to_be_reexecuted": false,
    "source_hash": "b936e32",
    "execution_start": 1627046108025,
    "execution_millis": 56,
    "deepnote_cell_type": "code"
   },
   "source": "col = [\"X\", \"Y\", \"Z\", \"Pressure\", \"GripAngle\", \"Timestamp\", \"Test ID\",\"Class\"]\ncontrol_data = pd.DataFrame()\ncontrol_file = glob.glob(\"/work/parkinson/control/*.txt\")\n\nfor f in control_file:\n    data = pd.read_csv(f, delimiter=\";\")\n    data.columns = col\n    # print(data)\n    control_data = pd.concat([control_data, data], axis=0)\n\nprint(control_data.shape)\n\n#creating the class column\ncontrol_data[\"Class\"] = 0\n\ncontrol_data\n\n",
   "execution_count": null,
   "outputs": [
    {
     "output_type": "error",
     "ename": "ValueError",
     "evalue": "Length mismatch: Expected axis has 7 elements, new values have 8 elements",
     "traceback": [
      "\u001b[0;31m---------------------------------------------------------------------------\u001b[0m",
      "\u001b[0;31mValueError\u001b[0m                                Traceback (most recent call last)",
      "\u001b[0;32m/tmp/ipykernel_76/2628773894.py\u001b[0m in \u001b[0;36m<module>\u001b[0;34m\u001b[0m\n\u001b[1;32m      5\u001b[0m \u001b[0;32mfor\u001b[0m \u001b[0mf\u001b[0m \u001b[0;32min\u001b[0m \u001b[0mcontrol_file\u001b[0m\u001b[0;34m:\u001b[0m\u001b[0;34m\u001b[0m\u001b[0;34m\u001b[0m\u001b[0m\n\u001b[1;32m      6\u001b[0m    \u001b[0mdata\u001b[0m \u001b[0;34m=\u001b[0m \u001b[0mpd\u001b[0m\u001b[0;34m.\u001b[0m\u001b[0mread_csv\u001b[0m\u001b[0;34m(\u001b[0m\u001b[0mf\u001b[0m\u001b[0;34m,\u001b[0m \u001b[0mdelimiter\u001b[0m\u001b[0;34m=\u001b[0m\u001b[0;34m\";\"\u001b[0m\u001b[0;34m)\u001b[0m\u001b[0;34m\u001b[0m\u001b[0;34m\u001b[0m\u001b[0m\n\u001b[0;32m----> 7\u001b[0;31m    \u001b[0mdata\u001b[0m\u001b[0;34m.\u001b[0m\u001b[0mcolumns\u001b[0m \u001b[0;34m=\u001b[0m \u001b[0mcol\u001b[0m\u001b[0;34m\u001b[0m\u001b[0;34m\u001b[0m\u001b[0m\n\u001b[0m\u001b[1;32m      8\u001b[0m    \u001b[0;31m# print(data)\u001b[0m\u001b[0;34m\u001b[0m\u001b[0;34m\u001b[0m\u001b[0;34m\u001b[0m\u001b[0m\n\u001b[1;32m      9\u001b[0m    \u001b[0mcontrol_data\u001b[0m \u001b[0;34m=\u001b[0m \u001b[0mpd\u001b[0m\u001b[0;34m.\u001b[0m\u001b[0mconcat\u001b[0m\u001b[0;34m(\u001b[0m\u001b[0;34m[\u001b[0m\u001b[0mcontrol_data\u001b[0m\u001b[0;34m,\u001b[0m \u001b[0mdata\u001b[0m\u001b[0;34m]\u001b[0m\u001b[0;34m,\u001b[0m \u001b[0maxis\u001b[0m\u001b[0;34m=\u001b[0m\u001b[0;36m0\u001b[0m\u001b[0;34m)\u001b[0m\u001b[0;34m\u001b[0m\u001b[0;34m\u001b[0m\u001b[0m\n",
      "\u001b[0;32m/shared-libs/python3.7/py/lib/python3.7/site-packages/pandas/core/generic.py\u001b[0m in \u001b[0;36m__setattr__\u001b[0;34m(self, name, value)\u001b[0m\n\u001b[1;32m   5476\u001b[0m         \u001b[0;32mtry\u001b[0m\u001b[0;34m:\u001b[0m\u001b[0;34m\u001b[0m\u001b[0;34m\u001b[0m\u001b[0m\n\u001b[1;32m   5477\u001b[0m             \u001b[0mobject\u001b[0m\u001b[0;34m.\u001b[0m\u001b[0m__getattribute__\u001b[0m\u001b[0;34m(\u001b[0m\u001b[0mself\u001b[0m\u001b[0;34m,\u001b[0m \u001b[0mname\u001b[0m\u001b[0;34m)\u001b[0m\u001b[0;34m\u001b[0m\u001b[0;34m\u001b[0m\u001b[0m\n\u001b[0;32m-> 5478\u001b[0;31m             \u001b[0;32mreturn\u001b[0m \u001b[0mobject\u001b[0m\u001b[0;34m.\u001b[0m\u001b[0m__setattr__\u001b[0m\u001b[0;34m(\u001b[0m\u001b[0mself\u001b[0m\u001b[0;34m,\u001b[0m \u001b[0mname\u001b[0m\u001b[0;34m,\u001b[0m \u001b[0mvalue\u001b[0m\u001b[0;34m)\u001b[0m\u001b[0;34m\u001b[0m\u001b[0;34m\u001b[0m\u001b[0m\n\u001b[0m\u001b[1;32m   5479\u001b[0m         \u001b[0;32mexcept\u001b[0m \u001b[0mAttributeError\u001b[0m\u001b[0;34m:\u001b[0m\u001b[0;34m\u001b[0m\u001b[0;34m\u001b[0m\u001b[0m\n\u001b[1;32m   5480\u001b[0m             \u001b[0;32mpass\u001b[0m\u001b[0;34m\u001b[0m\u001b[0;34m\u001b[0m\u001b[0m\n",
      "\u001b[0;32mpandas/_libs/properties.pyx\u001b[0m in \u001b[0;36mpandas._libs.properties.AxisProperty.__set__\u001b[0;34m()\u001b[0m\n",
      "\u001b[0;32m/shared-libs/python3.7/py/lib/python3.7/site-packages/pandas/core/generic.py\u001b[0m in \u001b[0;36m_set_axis\u001b[0;34m(self, axis, labels)\u001b[0m\n\u001b[1;32m    668\u001b[0m     \u001b[0;32mdef\u001b[0m \u001b[0m_set_axis\u001b[0m\u001b[0;34m(\u001b[0m\u001b[0mself\u001b[0m\u001b[0;34m,\u001b[0m \u001b[0maxis\u001b[0m\u001b[0;34m:\u001b[0m \u001b[0mint\u001b[0m\u001b[0;34m,\u001b[0m \u001b[0mlabels\u001b[0m\u001b[0;34m:\u001b[0m \u001b[0mIndex\u001b[0m\u001b[0;34m)\u001b[0m \u001b[0;34m->\u001b[0m \u001b[0;32mNone\u001b[0m\u001b[0;34m:\u001b[0m\u001b[0;34m\u001b[0m\u001b[0;34m\u001b[0m\u001b[0m\n\u001b[1;32m    669\u001b[0m         \u001b[0mlabels\u001b[0m \u001b[0;34m=\u001b[0m \u001b[0mensure_index\u001b[0m\u001b[0;34m(\u001b[0m\u001b[0mlabels\u001b[0m\u001b[0;34m)\u001b[0m\u001b[0;34m\u001b[0m\u001b[0;34m\u001b[0m\u001b[0m\n\u001b[0;32m--> 670\u001b[0;31m         \u001b[0mself\u001b[0m\u001b[0;34m.\u001b[0m\u001b[0m_mgr\u001b[0m\u001b[0;34m.\u001b[0m\u001b[0mset_axis\u001b[0m\u001b[0;34m(\u001b[0m\u001b[0maxis\u001b[0m\u001b[0;34m,\u001b[0m \u001b[0mlabels\u001b[0m\u001b[0;34m)\u001b[0m\u001b[0;34m\u001b[0m\u001b[0;34m\u001b[0m\u001b[0m\n\u001b[0m\u001b[1;32m    671\u001b[0m         \u001b[0mself\u001b[0m\u001b[0;34m.\u001b[0m\u001b[0m_clear_item_cache\u001b[0m\u001b[0;34m(\u001b[0m\u001b[0;34m)\u001b[0m\u001b[0;34m\u001b[0m\u001b[0;34m\u001b[0m\u001b[0m\n\u001b[1;32m    672\u001b[0m \u001b[0;34m\u001b[0m\u001b[0m\n",
      "\u001b[0;32m/shared-libs/python3.7/py/lib/python3.7/site-packages/pandas/core/internals/managers.py\u001b[0m in \u001b[0;36mset_axis\u001b[0;34m(self, axis, new_labels)\u001b[0m\n\u001b[1;32m    219\u001b[0m         \u001b[0;32mif\u001b[0m \u001b[0mnew_len\u001b[0m \u001b[0;34m!=\u001b[0m \u001b[0mold_len\u001b[0m\u001b[0;34m:\u001b[0m\u001b[0;34m\u001b[0m\u001b[0;34m\u001b[0m\u001b[0m\n\u001b[1;32m    220\u001b[0m             raise ValueError(\n\u001b[0;32m--> 221\u001b[0;31m                 \u001b[0;34mf\"Length mismatch: Expected axis has {old_len} elements, new \"\u001b[0m\u001b[0;34m\u001b[0m\u001b[0;34m\u001b[0m\u001b[0m\n\u001b[0m\u001b[1;32m    222\u001b[0m                 \u001b[0;34mf\"values have {new_len} elements\"\u001b[0m\u001b[0;34m\u001b[0m\u001b[0;34m\u001b[0m\u001b[0m\n\u001b[1;32m    223\u001b[0m             )\n",
      "\u001b[0;31mValueError\u001b[0m: Length mismatch: Expected axis has 7 elements, new values have 8 elements"
     ]
    }
   ]
  },
  {
   "cell_type": "code",
   "metadata": {
    "tags": [],
    "cell_id": "00003-d10abaea-e751-4578-97fe-79669edd87b2",
    "deepnote_to_be_reexecuted": false,
    "source_hash": "1599c6ac",
    "execution_start": 1627038634501,
    "execution_millis": 593,
    "deepnote_cell_type": "code"
   },
   "source": " col = [\"X\", \"Y\", \"Z\", \"Pressure\", \"GripAngle\", \"Timestamp\", \"Test ID\"]\nparkinson_data = pd.DataFrame()\nparkinson_file = glob.glob(\"/work/parkinson/parkinson/*.txt\")\n\nfor f in parkinson_file:\n    data = pd.read_csv(f, delimiter=\";\")\n    data.columns = col\n    # print(data)\n    parkinson_data = pd.concat([parkinson_data, data], axis=0)\n\nprint(parkinson_data.shape)\n\n#creating the class column\nparkinson_data[\"Class\"] = 1\n\n",
   "execution_count": null,
   "outputs": [
    {
     "name": "stdout",
     "text": "(404371, 7)\n",
     "output_type": "stream"
    },
    {
     "output_type": "execute_result",
     "execution_count": 107,
     "data": {
      "text/plain": "X            0\nY            0\nZ            0\nPressure     0\nGripAngle    0\nTimestamp    0\nTest ID      0\nClass        0\ndtype: int64"
     },
     "metadata": {}
    }
   ]
  },
  {
   "cell_type": "code",
   "metadata": {
    "tags": [],
    "cell_id": "00004-a6c41329-0379-4582-8ba3-021e0a127da0",
    "deepnote_to_be_reexecuted": false,
    "source_hash": "744d2d1e",
    "execution_start": 1627041217730,
    "execution_millis": 50,
    "deepnote_cell_type": "code"
   },
   "source": "df = pd.concat([parkinson_data, control_data], axis=0)\ndf\n\nextra_sample = df.sample(df.shape[0] // 3 )\n\ndf_extra = pd.concat([df, extra_sample], axis=0)",
   "execution_count": null,
   "outputs": []
  },
  {
   "cell_type": "code",
   "metadata": {
    "tags": [],
    "cell_id": "00008-6f464e5b-1b63-4b48-bb94-ffae729b0299",
    "deepnote_to_be_reexecuted": false,
    "source_hash": "b51b8279",
    "execution_start": 1627041246267,
    "execution_millis": 7,
    "deepnote_cell_type": "code"
   },
   "source": "print(df)\nprint(df_extra)",
   "execution_count": null,
   "outputs": [
    {
     "name": "stdout",
     "text": "         X    Y  Z  Pressure  GripAngle  Timestamp  Test ID  Class\n0      201  200  0        86        900   68140154        0      1\n1      201  200  0       123        900   68140161        0      1\n2      201  200  0       146        900   68140168        0      1\n3      201  200  0       158        900   68140175        0      1\n4      201  200  0       159        900   68140182        0      1\n...    ...  ... ..       ...        ...        ...      ...    ...\n13231  400  197  0       632       1610    3756201        1      0\n13232  400  197  0       624       1610    3756208        1      0\n13233  400  197  0       594       1620    3756215        1      0\n13234  400  198  0       543       1610    3756222        1      0\n13235  400  198  0       406       1620    3756229        1      0\n\n[524666 rows x 8 columns]\n        X    Y    Z  Pressure  GripAngle  Timestamp  Test ID  Class\n0     201  200    0        86        900   68140154        0      1\n1     201  200    0       123        900   68140161        0      1\n2     201  200    0       146        900   68140168        0      1\n3     201  200    0       158        900   68140175        0      1\n4     201  200    0       159        900   68140182        0      1\n...   ...  ...  ...       ...        ...        ...      ...    ...\n3575  287  101    0       797       1630   69794123        1      1\n4795  161  209    0       332        990    4651281        1      1\n4356  241  242  429         0       1580    6555024        2      0\n5149  104  354    0       957        940    2778980        1      1\n172   204  190    0       623       1320    6383639        0      0\n\n[699554 rows x 8 columns]\n",
     "output_type": "stream"
    }
   ]
  },
  {
   "cell_type": "code",
   "metadata": {
    "tags": [],
    "cell_id": "00005-9c38a763-9da0-46f3-aeaa-3da1d80b0d1a",
    "deepnote_to_be_reexecuted": false,
    "source_hash": "d823d68d",
    "execution_start": 1627041273007,
    "execution_millis": 8,
    "deepnote_cell_type": "code"
   },
   "source": "std_pressure = df_extra['Pressure'].std()/10\n\ndf_extra['Enh_pressure'] = df_extra['Pressure'] + std_pressure\n# Health and sick will hget same\n# Presseure std for helthy \n# Pressure and grip angle to create new column",
   "execution_count": null,
   "outputs": []
  },
  {
   "cell_type": "code",
   "metadata": {
    "tags": [],
    "cell_id": "00004-e272ef25-cb08-4d6e-8dbe-787cb4659801",
    "deepnote_to_be_reexecuted": false,
    "source_hash": "56c2ee3f",
    "execution_start": 1627038725509,
    "execution_millis": 2,
    "deepnote_cell_type": "code"
   },
   "source": "# Preprocessing \nfrom sklearn.preprocessing import PowerTransformer\nfrom sklearn.preprocessing import StandardScaler",
   "execution_count": null,
   "outputs": []
  },
  {
   "cell_type": "code",
   "metadata": {
    "tags": [],
    "cell_id": "00005-cb9a2047-cd32-41d3-92d9-75261006c0f1",
    "deepnote_to_be_reexecuted": false,
    "source_hash": "39636722",
    "execution_start": 1627041277299,
    "execution_millis": 0,
    "deepnote_cell_type": "code"
   },
   "source": "scaler = StandardScaler()\nnormalizer = PowerTransformer()",
   "execution_count": null,
   "outputs": []
  },
  {
   "cell_type": "code",
   "metadata": {
    "tags": [],
    "cell_id": "00006-3f544d4b-3393-433f-b1e9-f7d0902c69ed",
    "deepnote_to_be_reexecuted": false,
    "source_hash": "e259e9ad",
    "execution_start": 1627041282743,
    "execution_millis": 118,
    "deepnote_cell_type": "code"
   },
   "source": "df_scaled = scaler.fit_transform(df_extra)",
   "execution_count": null,
   "outputs": []
  },
  {
   "cell_type": "code",
   "metadata": {
    "tags": [],
    "cell_id": "00007-c3aeda9e-5e54-4354-846f-a1d47d6916e9",
    "deepnote_to_be_reexecuted": false,
    "source_hash": "ca987f67",
    "execution_start": 1627041283322,
    "execution_millis": 10,
    "deepnote_cell_type": "code"
   },
   "source": "df_scaled.shape",
   "execution_count": null,
   "outputs": [
    {
     "output_type": "execute_result",
     "execution_count": 166,
     "data": {
      "text/plain": "(699554, 9)"
     },
     "metadata": {}
    }
   ]
  },
  {
   "cell_type": "code",
   "metadata": {
    "tags": [],
    "cell_id": "00008-05d94514-a747-4972-bbdb-2f3f41ecee91",
    "deepnote_to_be_reexecuted": false,
    "source_hash": "e874e7a7",
    "execution_start": 1627041346912,
    "execution_millis": 10082,
    "deepnote_cell_type": "code"
   },
   "source": "df_norm = normalizer.fit_transform(df_scaled)\ndf_norm.shape",
   "execution_count": null,
   "outputs": [
    {
     "output_type": "execute_result",
     "execution_count": 168,
     "data": {
      "text/plain": "(699554, 9)"
     },
     "metadata": {}
    }
   ]
  },
  {
   "cell_type": "code",
   "metadata": {
    "tags": [],
    "cell_id": "00015-6e5150da-a729-42e4-8bf4-ae004e1917b6",
    "deepnote_cell_type": "code"
   },
   "source": "",
   "execution_count": null,
   "outputs": []
  },
  {
   "cell_type": "code",
   "metadata": {
    "tags": [],
    "cell_id": "00011-535edfc4-03c7-4efe-9e16-d4be00fb3774",
    "deepnote_to_be_reexecuted": false,
    "source_hash": "fd22fb4d",
    "execution_start": 1627054359343,
    "execution_millis": 12,
    "deepnote_cell_type": "code"
   },
   "source": "df_norm",
   "execution_count": null,
   "outputs": [
    {
     "output_type": "execute_result",
     "execution_count": 244,
     "data": {
      "text/plain": "array([[-0.20157037, -0.31102313, -0.33335057, ..., -1.07867443,\n         0.54540759, -1.67736351],\n       [-0.20157037, -0.31102313, -0.33335057, ..., -1.07867443,\n         0.54540759, -1.60618066],\n       [-0.20157037, -0.31102313, -0.33335057, ..., -1.07867443,\n         0.54540759, -1.56080826],\n       ...,\n       [ 0.19467193,  0.19909313,  3.29096956, ...,  1.46049356,\n        -1.83349118, -1.83500277],\n       [-1.29905721,  1.5879722 , -0.33335057, ...,  0.40499388,\n         0.54540759,  1.4612787 ],\n       [-0.17052468, -0.43145119, -0.33335057, ..., -1.07867443,\n        -1.83349118, -0.29252996]])"
     },
     "metadata": {}
    }
   ]
  },
  {
   "cell_type": "code",
   "metadata": {
    "tags": [],
    "cell_id": "00017-1c032a2f-cf5f-46eb-8a8c-bbc1585dab3f",
    "deepnote_cell_type": "code"
   },
   "source": "# Append 0 or 1 to class\n# Create sequence for healthy and not healthy\n# We should go file by file",
   "execution_count": null,
   "outputs": []
  },
  {
   "cell_type": "code",
   "metadata": {
    "tags": [],
    "cell_id": "00018-1494e41c-ba4e-49f3-9cdd-d6bbb9598af1",
    "deepnote_cell_type": "code"
   },
   "source": "",
   "execution_count": null,
   "outputs": []
  },
  {
   "cell_type": "code",
   "metadata": {
    "tags": [],
    "cell_id": "00013-eda5142f-159f-4329-ae38-ded6dab75b35",
    "deepnote_to_be_reexecuted": false,
    "source_hash": "3e94fbaa",
    "execution_start": 1627054372237,
    "execution_millis": 18,
    "deepnote_cell_type": "code"
   },
   "source": " def pairing(df_norm, seq_len =6):  #143*15 = 15s \n     \n     for i in range(0, (df_norm.shape[0]-1) // seq_len, seq_len + 1): #creating for loop for the sequence\n         \n         seq = np.zeros((seq_len, df_norm.shape[1])) \n         for j in range(seq_len):  #iterating through the sequence\n            \n            seq[j] = data[i+j]\n         x.append(seq)\n         y.append(df_norm[i+seq_len,1])  # append \n     return np.array(x), np.array(y)\n x, y = pairing(df_norm)\n\n\nprint(df_norm.shape)\nprint(x.shape)\nprint(y.shape)",
   "execution_count": null,
   "outputs": [
    {
     "output_type": "error",
     "ename": "KeyError",
     "evalue": "0",
     "traceback": [
      "\u001b[0;31m---------------------------------------------------------------------------\u001b[0m",
      "\u001b[0;31mKeyError\u001b[0m                                  Traceback (most recent call last)",
      "\u001b[0;32m/shared-libs/python3.7/py/lib/python3.7/site-packages/pandas/core/indexes/base.py\u001b[0m in \u001b[0;36mget_loc\u001b[0;34m(self, key, method, tolerance)\u001b[0m\n\u001b[1;32m   3080\u001b[0m             \u001b[0;32mtry\u001b[0m\u001b[0;34m:\u001b[0m\u001b[0;34m\u001b[0m\u001b[0;34m\u001b[0m\u001b[0m\n\u001b[0;32m-> 3081\u001b[0;31m                 \u001b[0;32mreturn\u001b[0m \u001b[0mself\u001b[0m\u001b[0;34m.\u001b[0m\u001b[0m_engine\u001b[0m\u001b[0;34m.\u001b[0m\u001b[0mget_loc\u001b[0m\u001b[0;34m(\u001b[0m\u001b[0mcasted_key\u001b[0m\u001b[0;34m)\u001b[0m\u001b[0;34m\u001b[0m\u001b[0;34m\u001b[0m\u001b[0m\n\u001b[0m\u001b[1;32m   3082\u001b[0m             \u001b[0;32mexcept\u001b[0m \u001b[0mKeyError\u001b[0m \u001b[0;32mas\u001b[0m \u001b[0merr\u001b[0m\u001b[0;34m:\u001b[0m\u001b[0;34m\u001b[0m\u001b[0;34m\u001b[0m\u001b[0m\n",
      "\u001b[0;32mpandas/_libs/index.pyx\u001b[0m in \u001b[0;36mpandas._libs.index.IndexEngine.get_loc\u001b[0;34m()\u001b[0m\n",
      "\u001b[0;32mpandas/_libs/index.pyx\u001b[0m in \u001b[0;36mpandas._libs.index.IndexEngine.get_loc\u001b[0;34m()\u001b[0m\n",
      "\u001b[0;32mpandas/_libs/hashtable_class_helper.pxi\u001b[0m in \u001b[0;36mpandas._libs.hashtable.PyObjectHashTable.get_item\u001b[0;34m()\u001b[0m\n",
      "\u001b[0;32mpandas/_libs/hashtable_class_helper.pxi\u001b[0m in \u001b[0;36mpandas._libs.hashtable.PyObjectHashTable.get_item\u001b[0;34m()\u001b[0m\n",
      "\u001b[0;31mKeyError\u001b[0m: 0",
      "\nThe above exception was the direct cause of the following exception:\n",
      "\u001b[0;31mKeyError\u001b[0m                                  Traceback (most recent call last)",
      "\u001b[0;32m/tmp/ipykernel_76/2079014452.py\u001b[0m in \u001b[0;36m<module>\u001b[0;34m\u001b[0m\n\u001b[1;32m     10\u001b[0m         \u001b[0my\u001b[0m\u001b[0;34m.\u001b[0m\u001b[0mappend\u001b[0m\u001b[0;34m(\u001b[0m\u001b[0mdf_norm\u001b[0m\u001b[0;34m[\u001b[0m\u001b[0mi\u001b[0m\u001b[0;34m+\u001b[0m\u001b[0mseq_len\u001b[0m\u001b[0;34m,\u001b[0m\u001b[0;36m1\u001b[0m\u001b[0;34m]\u001b[0m\u001b[0;34m)\u001b[0m  \u001b[0;31m# append\u001b[0m\u001b[0;34m\u001b[0m\u001b[0;34m\u001b[0m\u001b[0m\n\u001b[1;32m     11\u001b[0m     \u001b[0;32mreturn\u001b[0m \u001b[0mnp\u001b[0m\u001b[0;34m.\u001b[0m\u001b[0marray\u001b[0m\u001b[0;34m(\u001b[0m\u001b[0mx\u001b[0m\u001b[0;34m)\u001b[0m\u001b[0;34m,\u001b[0m \u001b[0mnp\u001b[0m\u001b[0;34m.\u001b[0m\u001b[0marray\u001b[0m\u001b[0;34m(\u001b[0m\u001b[0my\u001b[0m\u001b[0;34m)\u001b[0m\u001b[0;34m\u001b[0m\u001b[0;34m\u001b[0m\u001b[0m\n\u001b[0;32m---> 12\u001b[0;31m \u001b[0mx\u001b[0m\u001b[0;34m,\u001b[0m \u001b[0my\u001b[0m \u001b[0;34m=\u001b[0m \u001b[0mpairing\u001b[0m\u001b[0;34m(\u001b[0m\u001b[0mdf_norm\u001b[0m\u001b[0;34m)\u001b[0m\u001b[0;34m\u001b[0m\u001b[0;34m\u001b[0m\u001b[0m\n\u001b[0m\u001b[1;32m     13\u001b[0m \u001b[0;34m\u001b[0m\u001b[0m\n\u001b[1;32m     14\u001b[0m \u001b[0;34m\u001b[0m\u001b[0m\n",
      "\u001b[0;32m/tmp/ipykernel_76/2079014452.py\u001b[0m in \u001b[0;36mpairing\u001b[0;34m(df_norm, seq_len)\u001b[0m\n\u001b[1;32m      6\u001b[0m         \u001b[0;32mfor\u001b[0m \u001b[0mj\u001b[0m \u001b[0;32min\u001b[0m \u001b[0mrange\u001b[0m\u001b[0;34m(\u001b[0m\u001b[0mseq_len\u001b[0m\u001b[0;34m)\u001b[0m\u001b[0;34m:\u001b[0m  \u001b[0;31m#iterating through the sequence\u001b[0m\u001b[0;34m\u001b[0m\u001b[0;34m\u001b[0m\u001b[0m\n\u001b[1;32m      7\u001b[0m \u001b[0;34m\u001b[0m\u001b[0m\n\u001b[0;32m----> 8\u001b[0;31m            \u001b[0mseq\u001b[0m\u001b[0;34m[\u001b[0m\u001b[0mj\u001b[0m\u001b[0;34m]\u001b[0m \u001b[0;34m=\u001b[0m \u001b[0mdata\u001b[0m\u001b[0;34m[\u001b[0m\u001b[0mi\u001b[0m\u001b[0;34m+\u001b[0m\u001b[0mj\u001b[0m\u001b[0;34m]\u001b[0m\u001b[0;34m\u001b[0m\u001b[0;34m\u001b[0m\u001b[0m\n\u001b[0m\u001b[1;32m      9\u001b[0m         \u001b[0mx\u001b[0m\u001b[0;34m.\u001b[0m\u001b[0mappend\u001b[0m\u001b[0;34m(\u001b[0m\u001b[0mseq\u001b[0m\u001b[0;34m)\u001b[0m\u001b[0;34m\u001b[0m\u001b[0;34m\u001b[0m\u001b[0m\n\u001b[1;32m     10\u001b[0m         \u001b[0my\u001b[0m\u001b[0;34m.\u001b[0m\u001b[0mappend\u001b[0m\u001b[0;34m(\u001b[0m\u001b[0mdf_norm\u001b[0m\u001b[0;34m[\u001b[0m\u001b[0mi\u001b[0m\u001b[0;34m+\u001b[0m\u001b[0mseq_len\u001b[0m\u001b[0;34m,\u001b[0m\u001b[0;36m1\u001b[0m\u001b[0;34m]\u001b[0m\u001b[0;34m)\u001b[0m  \u001b[0;31m# append\u001b[0m\u001b[0;34m\u001b[0m\u001b[0;34m\u001b[0m\u001b[0m\n",
      "\u001b[0;32m/shared-libs/python3.7/py/lib/python3.7/site-packages/pandas/core/frame.py\u001b[0m in \u001b[0;36m__getitem__\u001b[0;34m(self, key)\u001b[0m\n\u001b[1;32m   3022\u001b[0m             \u001b[0;32mif\u001b[0m \u001b[0mself\u001b[0m\u001b[0;34m.\u001b[0m\u001b[0mcolumns\u001b[0m\u001b[0;34m.\u001b[0m\u001b[0mnlevels\u001b[0m \u001b[0;34m>\u001b[0m \u001b[0;36m1\u001b[0m\u001b[0;34m:\u001b[0m\u001b[0;34m\u001b[0m\u001b[0;34m\u001b[0m\u001b[0m\n\u001b[1;32m   3023\u001b[0m                 \u001b[0;32mreturn\u001b[0m \u001b[0mself\u001b[0m\u001b[0;34m.\u001b[0m\u001b[0m_getitem_multilevel\u001b[0m\u001b[0;34m(\u001b[0m\u001b[0mkey\u001b[0m\u001b[0;34m)\u001b[0m\u001b[0;34m\u001b[0m\u001b[0;34m\u001b[0m\u001b[0m\n\u001b[0;32m-> 3024\u001b[0;31m             \u001b[0mindexer\u001b[0m \u001b[0;34m=\u001b[0m \u001b[0mself\u001b[0m\u001b[0;34m.\u001b[0m\u001b[0mcolumns\u001b[0m\u001b[0;34m.\u001b[0m\u001b[0mget_loc\u001b[0m\u001b[0;34m(\u001b[0m\u001b[0mkey\u001b[0m\u001b[0;34m)\u001b[0m\u001b[0;34m\u001b[0m\u001b[0;34m\u001b[0m\u001b[0m\n\u001b[0m\u001b[1;32m   3025\u001b[0m             \u001b[0;32mif\u001b[0m \u001b[0mis_integer\u001b[0m\u001b[0;34m(\u001b[0m\u001b[0mindexer\u001b[0m\u001b[0;34m)\u001b[0m\u001b[0;34m:\u001b[0m\u001b[0;34m\u001b[0m\u001b[0;34m\u001b[0m\u001b[0m\n\u001b[1;32m   3026\u001b[0m                 \u001b[0mindexer\u001b[0m \u001b[0;34m=\u001b[0m \u001b[0;34m[\u001b[0m\u001b[0mindexer\u001b[0m\u001b[0;34m]\u001b[0m\u001b[0;34m\u001b[0m\u001b[0;34m\u001b[0m\u001b[0m\n",
      "\u001b[0;32m/shared-libs/python3.7/py/lib/python3.7/site-packages/pandas/core/indexes/base.py\u001b[0m in \u001b[0;36mget_loc\u001b[0;34m(self, key, method, tolerance)\u001b[0m\n\u001b[1;32m   3081\u001b[0m                 \u001b[0;32mreturn\u001b[0m \u001b[0mself\u001b[0m\u001b[0;34m.\u001b[0m\u001b[0m_engine\u001b[0m\u001b[0;34m.\u001b[0m\u001b[0mget_loc\u001b[0m\u001b[0;34m(\u001b[0m\u001b[0mcasted_key\u001b[0m\u001b[0;34m)\u001b[0m\u001b[0;34m\u001b[0m\u001b[0;34m\u001b[0m\u001b[0m\n\u001b[1;32m   3082\u001b[0m             \u001b[0;32mexcept\u001b[0m \u001b[0mKeyError\u001b[0m \u001b[0;32mas\u001b[0m \u001b[0merr\u001b[0m\u001b[0;34m:\u001b[0m\u001b[0;34m\u001b[0m\u001b[0;34m\u001b[0m\u001b[0m\n\u001b[0;32m-> 3083\u001b[0;31m                 \u001b[0;32mraise\u001b[0m \u001b[0mKeyError\u001b[0m\u001b[0;34m(\u001b[0m\u001b[0mkey\u001b[0m\u001b[0;34m)\u001b[0m \u001b[0;32mfrom\u001b[0m \u001b[0merr\u001b[0m\u001b[0;34m\u001b[0m\u001b[0;34m\u001b[0m\u001b[0m\n\u001b[0m\u001b[1;32m   3084\u001b[0m \u001b[0;34m\u001b[0m\u001b[0m\n\u001b[1;32m   3085\u001b[0m         \u001b[0;32mif\u001b[0m \u001b[0mtolerance\u001b[0m \u001b[0;32mis\u001b[0m \u001b[0;32mnot\u001b[0m \u001b[0;32mNone\u001b[0m\u001b[0;34m:\u001b[0m\u001b[0;34m\u001b[0m\u001b[0;34m\u001b[0m\u001b[0m\n",
      "\u001b[0;31mKeyError\u001b[0m: 0"
     ]
    }
   ]
  },
  {
   "cell_type": "code",
   "metadata": {
    "tags": [],
    "cell_id": "00016-29394167-d1bf-4fa8-ba99-0460b195c5dc",
    "deepnote_to_be_reexecuted": false,
    "source_hash": "c4f15373",
    "execution_start": 1627046261614,
    "execution_millis": 5,
    "deepnote_cell_type": "code"
   },
   "source": "# 1.column Var,\n# 2. mean\nfor f in :\n\n    data = pd.read_csv(f, delimiter=\";\")\n    data.columns = col\n    for col in os.listdir('parkinson'+'/'+'control'+'/'+f): \n        print(col)\n    # print(data)\n    # control_data = pd.concat([control_data, data], axis=0)\n",
   "execution_count": null,
   "outputs": [
    {
     "output_type": "error",
     "ename": "SyntaxError",
     "evalue": "invalid syntax (1515986256.py, line 3)",
     "traceback": [
      "\u001b[0;36m  File \u001b[0;32m\"/tmp/ipykernel_76/1515986256.py\"\u001b[0;36m, line \u001b[0;32m3\u001b[0m\n\u001b[0;31m    for f in :\u001b[0m\n\u001b[0m             ^\u001b[0m\n\u001b[0;31mSyntaxError\u001b[0m\u001b[0;31m:\u001b[0m invalid syntax\n"
     ]
    }
   ]
  },
  {
   "cell_type": "code",
   "metadata": {
    "tags": [],
    "cell_id": "00017-bab3c76f-af4b-4016-b14f-f5dd815970a5",
    "deepnote_to_be_reexecuted": false,
    "source_hash": "6497c2b4",
    "execution_start": 1627046537321,
    "execution_millis": 634,
    "deepnote_cell_type": "code"
   },
   "source": "col = [\"X\", \"Y\", \"Z\", \"Pressure\", \"GripAngle\", \"Timestamp\", \"Test ID\", \"Class\"]\ncontrol_data = pd.DataFrame()\ncontrol_file = glob.glob(\"/work/parkinson/control/*.txt\")\n\ndf_listC = []\ndf_listP = []\n# \"/work/parkinson/parkinson/*.txt\" -parkinson\nfor f in control_file:\n    data = pd.read_csv(f, delimiter=\";\")\n    data[\"Class\"] = 0\n    data.columns = col\n    df_listC.append(data)\n\n\nparkinson_data = pd.DataFrame()\nparkinson_file = glob.glob(\"/work/parkinson/parkinson/*.txt\")\n\n\nfor f in parkinson_file:\n    data = pd.read_csv(f, delimiter=\";\")\n    data[\"Class\"] = 0\n    data.columns = col\n    df_listP.append(data)\n\n\nprint(len(df_listC))\nprint(len(df_listP))",
   "execution_count": null,
   "outputs": [
    {
     "name": "stdout",
     "text": "15\n62\n",
     "output_type": "stream"
    }
   ]
  },
  {
   "cell_type": "code",
   "metadata": {
    "tags": [],
    "cell_id": "00023-9be95979-0037-42b3-9d58-20555199da32",
    "deepnote_to_be_reexecuted": false,
    "source_hash": "d3b0d4ed",
    "execution_start": 1627046332218,
    "execution_millis": 5,
    "deepnote_cell_type": "code"
   },
   "source": "# df_list[]",
   "execution_count": null,
   "outputs": [
    {
     "output_type": "error",
     "ename": "SyntaxError",
     "evalue": "invalid syntax (4185473471.py, line 4)",
     "traceback": [
      "\u001b[0;36m  File \u001b[0;32m\"/tmp/ipykernel_76/4185473471.py\"\u001b[0;36m, line \u001b[0;32m4\u001b[0m\n\u001b[0;31m    ]\u001b[0m\n\u001b[0m    ^\u001b[0m\n\u001b[0;31mSyntaxError\u001b[0m\u001b[0;31m:\u001b[0m invalid syntax\n"
     ]
    }
   ]
  },
  {
   "cell_type": "code",
   "metadata": {
    "tags": [],
    "cell_id": "00015-6e121747-a479-4b3a-97cc-69d7a63dd50a",
    "deepnote_to_be_reexecuted": false,
    "source_hash": "2d406b4d",
    "execution_start": 1627046365663,
    "execution_millis": 3,
    "deepnote_cell_type": "code"
   },
   "source": "# for f in df:\n#     print(df[f])\n        ",
   "execution_count": null,
   "outputs": []
  },
  {
   "cell_type": "code",
   "metadata": {
    "tags": [],
    "cell_id": "00025-e1c82ae7-9068-46bb-81b9-5dc1ee345c72",
    "deepnote_to_be_reexecuted": false,
    "source_hash": "fe155dc7",
    "execution_start": 1627046568337,
    "execution_millis": 9,
    "deepnote_cell_type": "code"
   },
   "source": "len(df_listP)",
   "execution_count": null,
   "outputs": [
    {
     "output_type": "execute_result",
     "execution_count": 197,
     "data": {
      "text/plain": "62"
     },
     "metadata": {}
    }
   ]
  },
  {
   "cell_type": "code",
   "metadata": {
    "tags": [],
    "cell_id": "00026-f7c1ab2a-23aa-4941-bc3f-467e4adbc6fd",
    "deepnote_to_be_reexecuted": false,
    "source_hash": "6ecd60a",
    "execution_start": 1627053771767,
    "execution_millis": 16,
    "deepnote_cell_type": "code"
   },
   "source": "type(df_listP)",
   "execution_count": null,
   "outputs": [
    {
     "output_type": "execute_result",
     "execution_count": 242,
     "data": {
      "text/plain": "list"
     },
     "metadata": {}
    }
   ]
  },
  {
   "cell_type": "code",
   "metadata": {
    "tags": [],
    "cell_id": "00026-71fca5e9-c2c1-471f-973b-9bbc32741f8b",
    "deepnote_to_be_reexecuted": false,
    "source_hash": "a3d75f66",
    "execution_start": 1627053755716,
    "execution_millis": 105,
    "deepnote_cell_type": "code"
   },
   "source": "df_listP[0]",
   "execution_count": null,
   "outputs": [
    {
     "output_type": "execute_result",
     "execution_count": 241,
     "data": {
      "application/vnd.deepnote.dataframe.v2+json": {
       "row_count": 9543,
       "column_count": 8,
       "columns": [
        {
         "name": "X",
         "dtype": "int64",
         "stats": {
          "unique_count": 378,
          "nan_count": 0,
          "min": "33",
          "max": "410",
          "histogram": [
           {
            "bin_start": 33,
            "bin_end": 70.7,
            "count": 531
           },
           {
            "bin_start": 70.7,
            "bin_end": 108.4,
            "count": 693
           },
           {
            "bin_start": 108.4,
            "bin_end": 146.10000000000002,
            "count": 929
           },
           {
            "bin_start": 146.10000000000002,
            "bin_end": 183.8,
            "count": 1381
           },
           {
            "bin_start": 183.8,
            "bin_end": 221.5,
            "count": 1651
           },
           {
            "bin_start": 221.5,
            "bin_end": 259.20000000000005,
            "count": 1209
           },
           {
            "bin_start": 259.20000000000005,
            "bin_end": 296.90000000000003,
            "count": 832
           },
           {
            "bin_start": 296.90000000000003,
            "bin_end": 334.6,
            "count": 1081
           },
           {
            "bin_start": 334.6,
            "bin_end": 372.3,
            "count": 514
           },
           {
            "bin_start": 372.3,
            "bin_end": 410,
            "count": 722
           }
          ]
         }
        },
        {
         "name": "Y",
         "dtype": "int64",
         "stats": {
          "unique_count": 339,
          "nan_count": 0,
          "min": "51",
          "max": "389",
          "histogram": [
           {
            "bin_start": 51,
            "bin_end": 84.8,
            "count": 699
           },
           {
            "bin_start": 84.8,
            "bin_end": 118.6,
            "count": 704
           },
           {
            "bin_start": 118.6,
            "bin_end": 152.39999999999998,
            "count": 1014
           },
           {
            "bin_start": 152.39999999999998,
            "bin_end": 186.2,
            "count": 902
           },
           {
            "bin_start": 186.2,
            "bin_end": 220,
            "count": 1776
           },
           {
            "bin_start": 220,
            "bin_end": 253.79999999999998,
            "count": 1471
           },
           {
            "bin_start": 253.79999999999998,
            "bin_end": 287.59999999999997,
            "count": 699
           },
           {
            "bin_start": 287.59999999999997,
            "bin_end": 321.4,
            "count": 1097
           },
           {
            "bin_start": 321.4,
            "bin_end": 355.2,
            "count": 543
           },
           {
            "bin_start": 355.2,
            "bin_end": 389,
            "count": 638
           }
          ]
         }
        },
        {
         "name": "Z",
         "dtype": "int64",
         "stats": {
          "unique_count": 1,
          "nan_count": 0,
          "min": "0",
          "max": "0",
          "histogram": [
           {
            "bin_start": -0.5,
            "bin_end": -0.4,
            "count": 0
           },
           {
            "bin_start": -0.4,
            "bin_end": -0.3,
            "count": 0
           },
           {
            "bin_start": -0.3,
            "bin_end": -0.19999999999999996,
            "count": 0
           },
           {
            "bin_start": -0.19999999999999996,
            "bin_end": -0.09999999999999998,
            "count": 0
           },
           {
            "bin_start": -0.09999999999999998,
            "bin_end": 0,
            "count": 0
           },
           {
            "bin_start": 0,
            "bin_end": 0.10000000000000009,
            "count": 9543
           },
           {
            "bin_start": 0.10000000000000009,
            "bin_end": 0.20000000000000007,
            "count": 0
           },
           {
            "bin_start": 0.20000000000000007,
            "bin_end": 0.30000000000000004,
            "count": 0
           },
           {
            "bin_start": 0.30000000000000004,
            "bin_end": 0.4,
            "count": 0
           },
           {
            "bin_start": 0.4,
            "bin_end": 0.5,
            "count": 0
           }
          ]
         }
        },
        {
         "name": "Pressure",
         "dtype": "int64",
         "stats": {
          "unique_count": 614,
          "nan_count": 0,
          "min": "12",
          "max": "1023",
          "histogram": [
           {
            "bin_start": 12,
            "bin_end": 113.1,
            "count": 25
           },
           {
            "bin_start": 113.1,
            "bin_end": 214.2,
            "count": 31
           },
           {
            "bin_start": 214.2,
            "bin_end": 315.29999999999995,
            "count": 41
           },
           {
            "bin_start": 315.29999999999995,
            "bin_end": 416.4,
            "count": 29
           },
           {
            "bin_start": 416.4,
            "bin_end": 517.5,
            "count": 398
           },
           {
            "bin_start": 517.5,
            "bin_end": 618.5999999999999,
            "count": 659
           },
           {
            "bin_start": 618.5999999999999,
            "bin_end": 719.6999999999999,
            "count": 1161
           },
           {
            "bin_start": 719.6999999999999,
            "bin_end": 820.8,
            "count": 1216
           },
           {
            "bin_start": 820.8,
            "bin_end": 921.9,
            "count": 2063
           },
           {
            "bin_start": 921.9,
            "bin_end": 1023,
            "count": 3920
           }
          ]
         }
        },
        {
         "name": "GripAngle",
         "dtype": "int64",
         "stats": {
          "unique_count": 89,
          "nan_count": 0,
          "min": "710",
          "max": "1630",
          "histogram": [
           {
            "bin_start": 710,
            "bin_end": 802,
            "count": 309
           },
           {
            "bin_start": 802,
            "bin_end": 894,
            "count": 798
           },
           {
            "bin_start": 894,
            "bin_end": 986,
            "count": 1334
           },
           {
            "bin_start": 986,
            "bin_end": 1078,
            "count": 1087
           },
           {
            "bin_start": 1078,
            "bin_end": 1170,
            "count": 1229
           },
           {
            "bin_start": 1170,
            "bin_end": 1262,
            "count": 1633
           },
           {
            "bin_start": 1262,
            "bin_end": 1354,
            "count": 1138
           },
           {
            "bin_start": 1354,
            "bin_end": 1446,
            "count": 1040
           },
           {
            "bin_start": 1446,
            "bin_end": 1538,
            "count": 909
           },
           {
            "bin_start": 1538,
            "bin_end": 1630,
            "count": 66
           }
          ]
         }
        },
        {
         "name": "Timestamp",
         "dtype": "int64",
         "stats": {
          "unique_count": 9543,
          "nan_count": 0,
          "min": "68140154",
          "max": "68223784",
          "histogram": [
           {
            "bin_start": 68140154,
            "bin_end": 68148517,
            "count": 1117
           },
           {
            "bin_start": 68148517,
            "bin_end": 68156880,
            "count": 1188
           },
           {
            "bin_start": 68156880,
            "bin_end": 68165243,
            "count": 1188
           },
           {
            "bin_start": 68165243,
            "bin_end": 68173606,
            "count": 1122
           },
           {
            "bin_start": 68173606,
            "bin_end": 68181969,
            "count": 0
           },
           {
            "bin_start": 68181969,
            "bin_end": 68190332,
            "count": 174
           },
           {
            "bin_start": 68190332,
            "bin_end": 68198695,
            "count": 1189
           },
           {
            "bin_start": 68198695,
            "bin_end": 68207058,
            "count": 1188
           },
           {
            "bin_start": 68207058,
            "bin_end": 68215421,
            "count": 1188
           },
           {
            "bin_start": 68215421,
            "bin_end": 68223784,
            "count": 1189
           }
          ]
         }
        },
        {
         "name": "Test ID",
         "dtype": "int64",
         "stats": {
          "unique_count": 2,
          "nan_count": 0,
          "min": "0",
          "max": "1",
          "histogram": [
           {
            "bin_start": 0,
            "bin_end": 0.1,
            "count": 4615
           },
           {
            "bin_start": 0.1,
            "bin_end": 0.2,
            "count": 0
           },
           {
            "bin_start": 0.2,
            "bin_end": 0.30000000000000004,
            "count": 0
           },
           {
            "bin_start": 0.30000000000000004,
            "bin_end": 0.4,
            "count": 0
           },
           {
            "bin_start": 0.4,
            "bin_end": 0.5,
            "count": 0
           },
           {
            "bin_start": 0.5,
            "bin_end": 0.6000000000000001,
            "count": 0
           },
           {
            "bin_start": 0.6000000000000001,
            "bin_end": 0.7000000000000001,
            "count": 0
           },
           {
            "bin_start": 0.7000000000000001,
            "bin_end": 0.8,
            "count": 0
           },
           {
            "bin_start": 0.8,
            "bin_end": 0.9,
            "count": 0
           },
           {
            "bin_start": 0.9,
            "bin_end": 1,
            "count": 4928
           }
          ]
         }
        },
        {
         "name": "Class",
         "dtype": "int64",
         "stats": {
          "unique_count": 1,
          "nan_count": 0,
          "min": "0",
          "max": "0",
          "histogram": [
           {
            "bin_start": -0.5,
            "bin_end": -0.4,
            "count": 0
           },
           {
            "bin_start": -0.4,
            "bin_end": -0.3,
            "count": 0
           },
           {
            "bin_start": -0.3,
            "bin_end": -0.19999999999999996,
            "count": 0
           },
           {
            "bin_start": -0.19999999999999996,
            "bin_end": -0.09999999999999998,
            "count": 0
           },
           {
            "bin_start": -0.09999999999999998,
            "bin_end": 0,
            "count": 0
           },
           {
            "bin_start": 0,
            "bin_end": 0.10000000000000009,
            "count": 9543
           },
           {
            "bin_start": 0.10000000000000009,
            "bin_end": 0.20000000000000007,
            "count": 0
           },
           {
            "bin_start": 0.20000000000000007,
            "bin_end": 0.30000000000000004,
            "count": 0
           },
           {
            "bin_start": 0.30000000000000004,
            "bin_end": 0.4,
            "count": 0
           },
           {
            "bin_start": 0.4,
            "bin_end": 0.5,
            "count": 0
           }
          ]
         }
        },
        {
         "name": "_deepnote_index_column",
         "dtype": "int64"
        }
       ],
       "rows_top": [
        {
         "X": 201,
         "Y": 200,
         "Z": 0,
         "Pressure": 86,
         "GripAngle": 900,
         "Timestamp": 68140154,
         "Test ID": 0,
         "Class": 0,
         "_deepnote_index_column": 0
        },
        {
         "X": 201,
         "Y": 200,
         "Z": 0,
         "Pressure": 123,
         "GripAngle": 900,
         "Timestamp": 68140161,
         "Test ID": 0,
         "Class": 0,
         "_deepnote_index_column": 1
        },
        {
         "X": 201,
         "Y": 200,
         "Z": 0,
         "Pressure": 146,
         "GripAngle": 900,
         "Timestamp": 68140168,
         "Test ID": 0,
         "Class": 0,
         "_deepnote_index_column": 2
        },
        {
         "X": 201,
         "Y": 200,
         "Z": 0,
         "Pressure": 158,
         "GripAngle": 900,
         "Timestamp": 68140175,
         "Test ID": 0,
         "Class": 0,
         "_deepnote_index_column": 3
        },
        {
         "X": 201,
         "Y": 200,
         "Z": 0,
         "Pressure": 159,
         "GripAngle": 900,
         "Timestamp": 68140182,
         "Test ID": 0,
         "Class": 0,
         "_deepnote_index_column": 4
        },
        {
         "X": 201,
         "Y": 199,
         "Z": 0,
         "Pressure": 161,
         "GripAngle": 880,
         "Timestamp": 68140189,
         "Test ID": 0,
         "Class": 0,
         "_deepnote_index_column": 5
        },
        {
         "X": 201,
         "Y": 199,
         "Z": 0,
         "Pressure": 163,
         "GripAngle": 880,
         "Timestamp": 68140196,
         "Test ID": 0,
         "Class": 0,
         "_deepnote_index_column": 6
        },
        {
         "X": 201,
         "Y": 199,
         "Z": 0,
         "Pressure": 165,
         "GripAngle": 900,
         "Timestamp": 68140203,
         "Test ID": 0,
         "Class": 0,
         "_deepnote_index_column": 7
        },
        {
         "X": 200,
         "Y": 199,
         "Z": 0,
         "Pressure": 188,
         "GripAngle": 900,
         "Timestamp": 68140210,
         "Test ID": 0,
         "Class": 0,
         "_deepnote_index_column": 8
        },
        {
         "X": 200,
         "Y": 199,
         "Z": 0,
         "Pressure": 217,
         "GripAngle": 900,
         "Timestamp": 68140217,
         "Test ID": 0,
         "Class": 0,
         "_deepnote_index_column": 9
        },
        {
         "X": 200,
         "Y": 199,
         "Z": 0,
         "Pressure": 244,
         "GripAngle": 900,
         "Timestamp": 68140224,
         "Test ID": 0,
         "Class": 0,
         "_deepnote_index_column": 10
        },
        {
         "X": 200,
         "Y": 199,
         "Z": 0,
         "Pressure": 267,
         "GripAngle": 900,
         "Timestamp": 68140231,
         "Test ID": 0,
         "Class": 0,
         "_deepnote_index_column": 11
        },
        {
         "X": 200,
         "Y": 199,
         "Z": 0,
         "Pressure": 273,
         "GripAngle": 900,
         "Timestamp": 68140238,
         "Test ID": 0,
         "Class": 0,
         "_deepnote_index_column": 12
        },
        {
         "X": 200,
         "Y": 199,
         "Z": 0,
         "Pressure": 279,
         "GripAngle": 920,
         "Timestamp": 68140245,
         "Test ID": 0,
         "Class": 0,
         "_deepnote_index_column": 13
        },
        {
         "X": 200,
         "Y": 199,
         "Z": 0,
         "Pressure": 286,
         "GripAngle": 900,
         "Timestamp": 68140253,
         "Test ID": 0,
         "Class": 0,
         "_deepnote_index_column": 14
        },
        {
         "X": 200,
         "Y": 199,
         "Z": 0,
         "Pressure": 287,
         "GripAngle": 900,
         "Timestamp": 68140260,
         "Test ID": 0,
         "Class": 0,
         "_deepnote_index_column": 15
        },
        {
         "X": 200,
         "Y": 200,
         "Z": 0,
         "Pressure": 283,
         "GripAngle": 900,
         "Timestamp": 68140267,
         "Test ID": 0,
         "Class": 0,
         "_deepnote_index_column": 16
        },
        {
         "X": 200,
         "Y": 200,
         "Z": 0,
         "Pressure": 279,
         "GripAngle": 900,
         "Timestamp": 68140274,
         "Test ID": 0,
         "Class": 0,
         "_deepnote_index_column": 17
        },
        {
         "X": 200,
         "Y": 200,
         "Z": 0,
         "Pressure": 264,
         "GripAngle": 900,
         "Timestamp": 68140281,
         "Test ID": 0,
         "Class": 0,
         "_deepnote_index_column": 18
        },
        {
         "X": 200,
         "Y": 200,
         "Z": 0,
         "Pressure": 243,
         "GripAngle": 920,
         "Timestamp": 68140288,
         "Test ID": 0,
         "Class": 0,
         "_deepnote_index_column": 19
        },
        {
         "X": 200,
         "Y": 201,
         "Z": 0,
         "Pressure": 214,
         "GripAngle": 900,
         "Timestamp": 68140295,
         "Test ID": 0,
         "Class": 0,
         "_deepnote_index_column": 20
        },
        {
         "X": 200,
         "Y": 201,
         "Z": 0,
         "Pressure": 162,
         "GripAngle": 900,
         "Timestamp": 68140302,
         "Test ID": 0,
         "Class": 0,
         "_deepnote_index_column": 21
        },
        {
         "X": 201,
         "Y": 201,
         "Z": 0,
         "Pressure": 16,
         "GripAngle": 900,
         "Timestamp": 68140309,
         "Test ID": 0,
         "Class": 0,
         "_deepnote_index_column": 22
        },
        {
         "X": 203,
         "Y": 200,
         "Z": 0,
         "Pressure": 29,
         "GripAngle": 920,
         "Timestamp": 68140676,
         "Test ID": 0,
         "Class": 0,
         "_deepnote_index_column": 23
        },
        {
         "X": 203,
         "Y": 200,
         "Z": 0,
         "Pressure": 84,
         "GripAngle": 900,
         "Timestamp": 68140683,
         "Test ID": 0,
         "Class": 0,
         "_deepnote_index_column": 24
        },
        {
         "X": 202,
         "Y": 200,
         "Z": 0,
         "Pressure": 145,
         "GripAngle": 900,
         "Timestamp": 68140690,
         "Test ID": 0,
         "Class": 0,
         "_deepnote_index_column": 25
        },
        {
         "X": 202,
         "Y": 200,
         "Z": 0,
         "Pressure": 169,
         "GripAngle": 900,
         "Timestamp": 68140697,
         "Test ID": 0,
         "Class": 0,
         "_deepnote_index_column": 26
        },
        {
         "X": 202,
         "Y": 200,
         "Z": 0,
         "Pressure": 165,
         "GripAngle": 900,
         "Timestamp": 68140704,
         "Test ID": 0,
         "Class": 0,
         "_deepnote_index_column": 27
        },
        {
         "X": 202,
         "Y": 200,
         "Z": 0,
         "Pressure": 149,
         "GripAngle": 900,
         "Timestamp": 68140711,
         "Test ID": 0,
         "Class": 0,
         "_deepnote_index_column": 28
        },
        {
         "X": 202,
         "Y": 200,
         "Z": 0,
         "Pressure": 77,
         "GripAngle": 900,
         "Timestamp": 68140718,
         "Test ID": 0,
         "Class": 0,
         "_deepnote_index_column": 29
        },
        {
         "X": 203,
         "Y": 200,
         "Z": 0,
         "Pressure": 48,
         "GripAngle": 900,
         "Timestamp": 68140792,
         "Test ID": 0,
         "Class": 0,
         "_deepnote_index_column": 30
        },
        {
         "X": 202,
         "Y": 201,
         "Z": 0,
         "Pressure": 80,
         "GripAngle": 900,
         "Timestamp": 68140799,
         "Test ID": 0,
         "Class": 0,
         "_deepnote_index_column": 31
        },
        {
         "X": 202,
         "Y": 201,
         "Z": 0,
         "Pressure": 119,
         "GripAngle": 900,
         "Timestamp": 68140806,
         "Test ID": 0,
         "Class": 0,
         "_deepnote_index_column": 32
        },
        {
         "X": 202,
         "Y": 201,
         "Z": 0,
         "Pressure": 156,
         "GripAngle": 880,
         "Timestamp": 68140813,
         "Test ID": 0,
         "Class": 0,
         "_deepnote_index_column": 33
        },
        {
         "X": 202,
         "Y": 202,
         "Z": 0,
         "Pressure": 168,
         "GripAngle": 880,
         "Timestamp": 68140820,
         "Test ID": 0,
         "Class": 0,
         "_deepnote_index_column": 34
        },
        {
         "X": 202,
         "Y": 202,
         "Z": 0,
         "Pressure": 168,
         "GripAngle": 900,
         "Timestamp": 68140827,
         "Test ID": 0,
         "Class": 0,
         "_deepnote_index_column": 35
        },
        {
         "X": 201,
         "Y": 202,
         "Z": 0,
         "Pressure": 158,
         "GripAngle": 900,
         "Timestamp": 68140834,
         "Test ID": 0,
         "Class": 0,
         "_deepnote_index_column": 36
        },
        {
         "X": 201,
         "Y": 202,
         "Z": 0,
         "Pressure": 68,
         "GripAngle": 900,
         "Timestamp": 68140841,
         "Test ID": 0,
         "Class": 0,
         "_deepnote_index_column": 37
        },
        {
         "X": 202,
         "Y": 202,
         "Z": 0,
         "Pressure": 33,
         "GripAngle": 900,
         "Timestamp": 68140929,
         "Test ID": 0,
         "Class": 0,
         "_deepnote_index_column": 38
        },
        {
         "X": 202,
         "Y": 203,
         "Z": 0,
         "Pressure": 61,
         "GripAngle": 900,
         "Timestamp": 68140936,
         "Test ID": 0,
         "Class": 0,
         "_deepnote_index_column": 39
        },
        {
         "X": 201,
         "Y": 203,
         "Z": 0,
         "Pressure": 84,
         "GripAngle": 900,
         "Timestamp": 68140943,
         "Test ID": 0,
         "Class": 0,
         "_deepnote_index_column": 40
        },
        {
         "X": 201,
         "Y": 203,
         "Z": 0,
         "Pressure": 87,
         "GripAngle": 900,
         "Timestamp": 68140950,
         "Test ID": 0,
         "Class": 0,
         "_deepnote_index_column": 41
        },
        {
         "X": 201,
         "Y": 203,
         "Z": 0,
         "Pressure": 85,
         "GripAngle": 900,
         "Timestamp": 68140957,
         "Test ID": 0,
         "Class": 0,
         "_deepnote_index_column": 42
        },
        {
         "X": 201,
         "Y": 203,
         "Z": 0,
         "Pressure": 81,
         "GripAngle": 900,
         "Timestamp": 68140964,
         "Test ID": 0,
         "Class": 0,
         "_deepnote_index_column": 43
        },
        {
         "X": 201,
         "Y": 203,
         "Z": 0,
         "Pressure": 79,
         "GripAngle": 900,
         "Timestamp": 68140971,
         "Test ID": 0,
         "Class": 0,
         "_deepnote_index_column": 44
        },
        {
         "X": 201,
         "Y": 203,
         "Z": 0,
         "Pressure": 79,
         "GripAngle": 900,
         "Timestamp": 68140978,
         "Test ID": 0,
         "Class": 0,
         "_deepnote_index_column": 45
        },
        {
         "X": 201,
         "Y": 203,
         "Z": 0,
         "Pressure": 80,
         "GripAngle": 900,
         "Timestamp": 68140985,
         "Test ID": 0,
         "Class": 0,
         "_deepnote_index_column": 46
        },
        {
         "X": 201,
         "Y": 203,
         "Z": 0,
         "Pressure": 83,
         "GripAngle": 900,
         "Timestamp": 68140992,
         "Test ID": 0,
         "Class": 0,
         "_deepnote_index_column": 47
        },
        {
         "X": 201,
         "Y": 203,
         "Z": 0,
         "Pressure": 87,
         "GripAngle": 900,
         "Timestamp": 68140999,
         "Test ID": 0,
         "Class": 0,
         "_deepnote_index_column": 48
        },
        {
         "X": 201,
         "Y": 203,
         "Z": 0,
         "Pressure": 97,
         "GripAngle": 900,
         "Timestamp": 68141006,
         "Test ID": 0,
         "Class": 0,
         "_deepnote_index_column": 49
        },
        {
         "X": 201,
         "Y": 203,
         "Z": 0,
         "Pressure": 124,
         "GripAngle": 900,
         "Timestamp": 68141013,
         "Test ID": 0,
         "Class": 0,
         "_deepnote_index_column": 50
        },
        {
         "X": 201,
         "Y": 203,
         "Z": 0,
         "Pressure": 162,
         "GripAngle": 900,
         "Timestamp": 68141020,
         "Test ID": 0,
         "Class": 0,
         "_deepnote_index_column": 51
        },
        {
         "X": 201,
         "Y": 203,
         "Z": 0,
         "Pressure": 190,
         "GripAngle": 880,
         "Timestamp": 68141027,
         "Test ID": 0,
         "Class": 0,
         "_deepnote_index_column": 52
        },
        {
         "X": 201,
         "Y": 203,
         "Z": 0,
         "Pressure": 205,
         "GripAngle": 880,
         "Timestamp": 68141034,
         "Test ID": 0,
         "Class": 0,
         "_deepnote_index_column": 53
        },
        {
         "X": 201,
         "Y": 203,
         "Z": 0,
         "Pressure": 244,
         "GripAngle": 880,
         "Timestamp": 68141041,
         "Test ID": 0,
         "Class": 0,
         "_deepnote_index_column": 54
        },
        {
         "X": 201,
         "Y": 203,
         "Z": 0,
         "Pressure": 276,
         "GripAngle": 880,
         "Timestamp": 68141048,
         "Test ID": 0,
         "Class": 0,
         "_deepnote_index_column": 55
        },
        {
         "X": 201,
         "Y": 203,
         "Z": 0,
         "Pressure": 293,
         "GripAngle": 880,
         "Timestamp": 68141055,
         "Test ID": 0,
         "Class": 0,
         "_deepnote_index_column": 56
        },
        {
         "X": 201,
         "Y": 203,
         "Z": 0,
         "Pressure": 303,
         "GripAngle": 900,
         "Timestamp": 68141063,
         "Test ID": 0,
         "Class": 0,
         "_deepnote_index_column": 57
        },
        {
         "X": 201,
         "Y": 203,
         "Z": 0,
         "Pressure": 305,
         "GripAngle": 900,
         "Timestamp": 68141070,
         "Test ID": 0,
         "Class": 0,
         "_deepnote_index_column": 58
        },
        {
         "X": 201,
         "Y": 203,
         "Z": 0,
         "Pressure": 310,
         "GripAngle": 900,
         "Timestamp": 68141077,
         "Test ID": 0,
         "Class": 0,
         "_deepnote_index_column": 59
        },
        {
         "X": 201,
         "Y": 203,
         "Z": 0,
         "Pressure": 312,
         "GripAngle": 900,
         "Timestamp": 68141084,
         "Test ID": 0,
         "Class": 0,
         "_deepnote_index_column": 60
        },
        {
         "X": 201,
         "Y": 203,
         "Z": 0,
         "Pressure": 310,
         "GripAngle": 900,
         "Timestamp": 68141091,
         "Test ID": 0,
         "Class": 0,
         "_deepnote_index_column": 61
        }
       ],
       "rows_bottom": [
        {
         "X": 402,
         "Y": 201,
         "Z": 0,
         "Pressure": 947,
         "GripAngle": 1440,
         "Timestamp": 68223348,
         "Test ID": 1,
         "Class": 0,
         "_deepnote_index_column": 9480
        },
        {
         "X": 402,
         "Y": 201,
         "Z": 0,
         "Pressure": 946,
         "GripAngle": 1470,
         "Timestamp": 68223355,
         "Test ID": 1,
         "Class": 0,
         "_deepnote_index_column": 9481
        },
        {
         "X": 402,
         "Y": 201,
         "Z": 0,
         "Pressure": 947,
         "GripAngle": 1470,
         "Timestamp": 68223362,
         "Test ID": 1,
         "Class": 0,
         "_deepnote_index_column": 9482
        },
        {
         "X": 402,
         "Y": 201,
         "Z": 0,
         "Pressure": 945,
         "GripAngle": 1490,
         "Timestamp": 68223369,
         "Test ID": 1,
         "Class": 0,
         "_deepnote_index_column": 9483
        },
        {
         "X": 402,
         "Y": 201,
         "Z": 0,
         "Pressure": 946,
         "GripAngle": 1520,
         "Timestamp": 68223376,
         "Test ID": 1,
         "Class": 0,
         "_deepnote_index_column": 9484
        },
        {
         "X": 402,
         "Y": 201,
         "Z": 0,
         "Pressure": 946,
         "GripAngle": 1510,
         "Timestamp": 68223383,
         "Test ID": 1,
         "Class": 0,
         "_deepnote_index_column": 9485
        },
        {
         "X": 402,
         "Y": 201,
         "Z": 0,
         "Pressure": 946,
         "GripAngle": 1510,
         "Timestamp": 68223390,
         "Test ID": 1,
         "Class": 0,
         "_deepnote_index_column": 9486
        },
        {
         "X": 402,
         "Y": 201,
         "Z": 0,
         "Pressure": 938,
         "GripAngle": 1450,
         "Timestamp": 68223397,
         "Test ID": 1,
         "Class": 0,
         "_deepnote_index_column": 9487
        },
        {
         "X": 402,
         "Y": 201,
         "Z": 0,
         "Pressure": 944,
         "GripAngle": 1470,
         "Timestamp": 68223404,
         "Test ID": 1,
         "Class": 0,
         "_deepnote_index_column": 9488
        },
        {
         "X": 402,
         "Y": 201,
         "Z": 0,
         "Pressure": 944,
         "GripAngle": 1470,
         "Timestamp": 68223411,
         "Test ID": 1,
         "Class": 0,
         "_deepnote_index_column": 9489
        },
        {
         "X": 402,
         "Y": 201,
         "Z": 0,
         "Pressure": 944,
         "GripAngle": 1440,
         "Timestamp": 68223418,
         "Test ID": 1,
         "Class": 0,
         "_deepnote_index_column": 9490
        },
        {
         "X": 402,
         "Y": 201,
         "Z": 0,
         "Pressure": 944,
         "GripAngle": 1490,
         "Timestamp": 68223425,
         "Test ID": 1,
         "Class": 0,
         "_deepnote_index_column": 9491
        },
        {
         "X": 402,
         "Y": 201,
         "Z": 0,
         "Pressure": 943,
         "GripAngle": 1490,
         "Timestamp": 68223432,
         "Test ID": 1,
         "Class": 0,
         "_deepnote_index_column": 9492
        },
        {
         "X": 402,
         "Y": 201,
         "Z": 0,
         "Pressure": 944,
         "GripAngle": 1470,
         "Timestamp": 68223439,
         "Test ID": 1,
         "Class": 0,
         "_deepnote_index_column": 9493
        },
        {
         "X": 402,
         "Y": 201,
         "Z": 0,
         "Pressure": 944,
         "GripAngle": 1530,
         "Timestamp": 68223446,
         "Test ID": 1,
         "Class": 0,
         "_deepnote_index_column": 9494
        },
        {
         "X": 402,
         "Y": 201,
         "Z": 0,
         "Pressure": 944,
         "GripAngle": 1510,
         "Timestamp": 68223453,
         "Test ID": 1,
         "Class": 0,
         "_deepnote_index_column": 9495
        },
        {
         "X": 402,
         "Y": 201,
         "Z": 0,
         "Pressure": 944,
         "GripAngle": 1510,
         "Timestamp": 68223460,
         "Test ID": 1,
         "Class": 0,
         "_deepnote_index_column": 9496
        },
        {
         "X": 402,
         "Y": 201,
         "Z": 0,
         "Pressure": 944,
         "GripAngle": 1520,
         "Timestamp": 68223468,
         "Test ID": 1,
         "Class": 0,
         "_deepnote_index_column": 9497
        },
        {
         "X": 402,
         "Y": 201,
         "Z": 0,
         "Pressure": 944,
         "GripAngle": 1510,
         "Timestamp": 68223475,
         "Test ID": 1,
         "Class": 0,
         "_deepnote_index_column": 9498
        },
        {
         "X": 402,
         "Y": 201,
         "Z": 0,
         "Pressure": 944,
         "GripAngle": 1490,
         "Timestamp": 68223482,
         "Test ID": 1,
         "Class": 0,
         "_deepnote_index_column": 9499
        },
        {
         "X": 402,
         "Y": 201,
         "Z": 0,
         "Pressure": 936,
         "GripAngle": 1510,
         "Timestamp": 68223489,
         "Test ID": 1,
         "Class": 0,
         "_deepnote_index_column": 9500
        },
        {
         "X": 402,
         "Y": 201,
         "Z": 0,
         "Pressure": 943,
         "GripAngle": 1490,
         "Timestamp": 68223496,
         "Test ID": 1,
         "Class": 0,
         "_deepnote_index_column": 9501
        },
        {
         "X": 402,
         "Y": 201,
         "Z": 0,
         "Pressure": 944,
         "GripAngle": 1470,
         "Timestamp": 68223503,
         "Test ID": 1,
         "Class": 0,
         "_deepnote_index_column": 9502
        },
        {
         "X": 402,
         "Y": 201,
         "Z": 0,
         "Pressure": 944,
         "GripAngle": 1490,
         "Timestamp": 68223510,
         "Test ID": 1,
         "Class": 0,
         "_deepnote_index_column": 9503
        },
        {
         "X": 402,
         "Y": 201,
         "Z": 0,
         "Pressure": 944,
         "GripAngle": 1440,
         "Timestamp": 68223517,
         "Test ID": 1,
         "Class": 0,
         "_deepnote_index_column": 9504
        },
        {
         "X": 402,
         "Y": 201,
         "Z": 0,
         "Pressure": 944,
         "GripAngle": 1470,
         "Timestamp": 68223524,
         "Test ID": 1,
         "Class": 0,
         "_deepnote_index_column": 9505
        },
        {
         "X": 402,
         "Y": 201,
         "Z": 0,
         "Pressure": 944,
         "GripAngle": 1500,
         "Timestamp": 68223531,
         "Test ID": 1,
         "Class": 0,
         "_deepnote_index_column": 9506
        },
        {
         "X": 402,
         "Y": 201,
         "Z": 0,
         "Pressure": 937,
         "GripAngle": 1500,
         "Timestamp": 68223538,
         "Test ID": 1,
         "Class": 0,
         "_deepnote_index_column": 9507
        },
        {
         "X": 402,
         "Y": 201,
         "Z": 0,
         "Pressure": 944,
         "GripAngle": 1530,
         "Timestamp": 68223545,
         "Test ID": 1,
         "Class": 0,
         "_deepnote_index_column": 9508
        },
        {
         "X": 402,
         "Y": 201,
         "Z": 0,
         "Pressure": 944,
         "GripAngle": 1520,
         "Timestamp": 68223552,
         "Test ID": 1,
         "Class": 0,
         "_deepnote_index_column": 9509
        },
        {
         "X": 402,
         "Y": 201,
         "Z": 0,
         "Pressure": 944,
         "GripAngle": 1510,
         "Timestamp": 68223559,
         "Test ID": 1,
         "Class": 0,
         "_deepnote_index_column": 9510
        },
        {
         "X": 402,
         "Y": 201,
         "Z": 0,
         "Pressure": 944,
         "GripAngle": 1510,
         "Timestamp": 68223566,
         "Test ID": 1,
         "Class": 0,
         "_deepnote_index_column": 9511
        },
        {
         "X": 402,
         "Y": 201,
         "Z": 0,
         "Pressure": 945,
         "GripAngle": 1480,
         "Timestamp": 68223573,
         "Test ID": 1,
         "Class": 0,
         "_deepnote_index_column": 9512
        },
        {
         "X": 402,
         "Y": 201,
         "Z": 0,
         "Pressure": 944,
         "GripAngle": 1510,
         "Timestamp": 68223580,
         "Test ID": 1,
         "Class": 0,
         "_deepnote_index_column": 9513
        },
        {
         "X": 402,
         "Y": 201,
         "Z": 0,
         "Pressure": 944,
         "GripAngle": 1510,
         "Timestamp": 68223587,
         "Test ID": 1,
         "Class": 0,
         "_deepnote_index_column": 9514
        },
        {
         "X": 402,
         "Y": 201,
         "Z": 0,
         "Pressure": 944,
         "GripAngle": 1490,
         "Timestamp": 68223594,
         "Test ID": 1,
         "Class": 0,
         "_deepnote_index_column": 9515
        },
        {
         "X": 402,
         "Y": 201,
         "Z": 0,
         "Pressure": 944,
         "GripAngle": 1520,
         "Timestamp": 68223601,
         "Test ID": 1,
         "Class": 0,
         "_deepnote_index_column": 9516
        },
        {
         "X": 402,
         "Y": 201,
         "Z": 0,
         "Pressure": 945,
         "GripAngle": 1500,
         "Timestamp": 68223608,
         "Test ID": 1,
         "Class": 0,
         "_deepnote_index_column": 9517
        },
        {
         "X": 402,
         "Y": 201,
         "Z": 0,
         "Pressure": 943,
         "GripAngle": 1510,
         "Timestamp": 68223615,
         "Test ID": 1,
         "Class": 0,
         "_deepnote_index_column": 9518
        },
        {
         "X": 402,
         "Y": 201,
         "Z": 0,
         "Pressure": 944,
         "GripAngle": 1520,
         "Timestamp": 68223622,
         "Test ID": 1,
         "Class": 0,
         "_deepnote_index_column": 9519
        },
        {
         "X": 402,
         "Y": 201,
         "Z": 0,
         "Pressure": 942,
         "GripAngle": 1470,
         "Timestamp": 68223629,
         "Test ID": 1,
         "Class": 0,
         "_deepnote_index_column": 9520
        },
        {
         "X": 402,
         "Y": 201,
         "Z": 0,
         "Pressure": 939,
         "GripAngle": 1470,
         "Timestamp": 68223636,
         "Test ID": 1,
         "Class": 0,
         "_deepnote_index_column": 9521
        },
        {
         "X": 402,
         "Y": 201,
         "Z": 0,
         "Pressure": 937,
         "GripAngle": 1490,
         "Timestamp": 68223643,
         "Test ID": 1,
         "Class": 0,
         "_deepnote_index_column": 9522
        },
        {
         "X": 402,
         "Y": 201,
         "Z": 0,
         "Pressure": 931,
         "GripAngle": 1470,
         "Timestamp": 68223651,
         "Test ID": 1,
         "Class": 0,
         "_deepnote_index_column": 9523
        },
        {
         "X": 402,
         "Y": 202,
         "Z": 0,
         "Pressure": 927,
         "GripAngle": 1520,
         "Timestamp": 68223658,
         "Test ID": 1,
         "Class": 0,
         "_deepnote_index_column": 9524
        },
        {
         "X": 402,
         "Y": 202,
         "Z": 0,
         "Pressure": 924,
         "GripAngle": 1500,
         "Timestamp": 68223665,
         "Test ID": 1,
         "Class": 0,
         "_deepnote_index_column": 9525
        },
        {
         "X": 401,
         "Y": 203,
         "Z": 0,
         "Pressure": 918,
         "GripAngle": 1520,
         "Timestamp": 68223672,
         "Test ID": 1,
         "Class": 0,
         "_deepnote_index_column": 9526
        },
        {
         "X": 401,
         "Y": 203,
         "Z": 0,
         "Pressure": 911,
         "GripAngle": 1520,
         "Timestamp": 68223679,
         "Test ID": 1,
         "Class": 0,
         "_deepnote_index_column": 9527
        },
        {
         "X": 401,
         "Y": 204,
         "Z": 0,
         "Pressure": 903,
         "GripAngle": 1490,
         "Timestamp": 68223686,
         "Test ID": 1,
         "Class": 0,
         "_deepnote_index_column": 9528
        },
        {
         "X": 401,
         "Y": 205,
         "Z": 0,
         "Pressure": 892,
         "GripAngle": 1510,
         "Timestamp": 68223693,
         "Test ID": 1,
         "Class": 0,
         "_deepnote_index_column": 9529
        },
        {
         "X": 401,
         "Y": 206,
         "Z": 0,
         "Pressure": 878,
         "GripAngle": 1490,
         "Timestamp": 68223700,
         "Test ID": 1,
         "Class": 0,
         "_deepnote_index_column": 9530
        },
        {
         "X": 401,
         "Y": 206,
         "Z": 0,
         "Pressure": 861,
         "GripAngle": 1490,
         "Timestamp": 68223707,
         "Test ID": 1,
         "Class": 0,
         "_deepnote_index_column": 9531
        },
        {
         "X": 401,
         "Y": 207,
         "Z": 0,
         "Pressure": 829,
         "GripAngle": 1490,
         "Timestamp": 68223714,
         "Test ID": 1,
         "Class": 0,
         "_deepnote_index_column": 9532
        },
        {
         "X": 401,
         "Y": 207,
         "Z": 0,
         "Pressure": 782,
         "GripAngle": 1490,
         "Timestamp": 68223721,
         "Test ID": 1,
         "Class": 0,
         "_deepnote_index_column": 9533
        },
        {
         "X": 401,
         "Y": 208,
         "Z": 0,
         "Pressure": 715,
         "GripAngle": 1490,
         "Timestamp": 68223728,
         "Test ID": 1,
         "Class": 0,
         "_deepnote_index_column": 9534
        },
        {
         "X": 402,
         "Y": 208,
         "Z": 0,
         "Pressure": 641,
         "GripAngle": 1450,
         "Timestamp": 68223735,
         "Test ID": 1,
         "Class": 0,
         "_deepnote_index_column": 9535
        },
        {
         "X": 402,
         "Y": 208,
         "Z": 0,
         "Pressure": 500,
         "GripAngle": 1490,
         "Timestamp": 68223742,
         "Test ID": 1,
         "Class": 0,
         "_deepnote_index_column": 9536
        },
        {
         "X": 402,
         "Y": 208,
         "Z": 0,
         "Pressure": 328,
         "GripAngle": 1490,
         "Timestamp": 68223749,
         "Test ID": 1,
         "Class": 0,
         "_deepnote_index_column": 9537
        },
        {
         "X": 401,
         "Y": 207,
         "Z": 0,
         "Pressure": 267,
         "GripAngle": 1510,
         "Timestamp": 68223756,
         "Test ID": 1,
         "Class": 0,
         "_deepnote_index_column": 9538
        },
        {
         "X": 401,
         "Y": 206,
         "Z": 0,
         "Pressure": 207,
         "GripAngle": 1550,
         "Timestamp": 68223763,
         "Test ID": 1,
         "Class": 0,
         "_deepnote_index_column": 9539
        },
        {
         "X": 401,
         "Y": 205,
         "Z": 0,
         "Pressure": 145,
         "GripAngle": 1550,
         "Timestamp": 68223770,
         "Test ID": 1,
         "Class": 0,
         "_deepnote_index_column": 9540
        },
        {
         "X": 400,
         "Y": 204,
         "Z": 0,
         "Pressure": 62,
         "GripAngle": 1580,
         "Timestamp": 68223777,
         "Test ID": 1,
         "Class": 0,
         "_deepnote_index_column": 9541
        },
        {
         "X": 400,
         "Y": 203,
         "Z": 0,
         "Pressure": 12,
         "GripAngle": 1580,
         "Timestamp": 68223784,
         "Test ID": 1,
         "Class": 0,
         "_deepnote_index_column": 9542
        }
       ]
      },
      "text/plain": "        X    Y  Z  Pressure  GripAngle  Timestamp  Test ID  Class\n0     201  200  0        86        900   68140154        0      0\n1     201  200  0       123        900   68140161        0      0\n2     201  200  0       146        900   68140168        0      0\n3     201  200  0       158        900   68140175        0      0\n4     201  200  0       159        900   68140182        0      0\n...   ...  ... ..       ...        ...        ...      ...    ...\n9538  401  207  0       267       1510   68223756        1      0\n9539  401  206  0       207       1550   68223763        1      0\n9540  401  205  0       145       1550   68223770        1      0\n9541  400  204  0        62       1580   68223777        1      0\n9542  400  203  0        12       1580   68223784        1      0\n\n[9543 rows x 8 columns]",
      "text/html": "<div>\n<style scoped>\n    .dataframe tbody tr th:only-of-type {\n        vertical-align: middle;\n    }\n\n    .dataframe tbody tr th {\n        vertical-align: top;\n    }\n\n    .dataframe thead th {\n        text-align: right;\n    }\n</style>\n<table border=\"1\" class=\"dataframe\">\n  <thead>\n    <tr style=\"text-align: right;\">\n      <th></th>\n      <th>X</th>\n      <th>Y</th>\n      <th>Z</th>\n      <th>Pressure</th>\n      <th>GripAngle</th>\n      <th>Timestamp</th>\n      <th>Test ID</th>\n      <th>Class</th>\n    </tr>\n  </thead>\n  <tbody>\n    <tr>\n      <th>0</th>\n      <td>201</td>\n      <td>200</td>\n      <td>0</td>\n      <td>86</td>\n      <td>900</td>\n      <td>68140154</td>\n      <td>0</td>\n      <td>0</td>\n    </tr>\n    <tr>\n      <th>1</th>\n      <td>201</td>\n      <td>200</td>\n      <td>0</td>\n      <td>123</td>\n      <td>900</td>\n      <td>68140161</td>\n      <td>0</td>\n      <td>0</td>\n    </tr>\n    <tr>\n      <th>2</th>\n      <td>201</td>\n      <td>200</td>\n      <td>0</td>\n      <td>146</td>\n      <td>900</td>\n      <td>68140168</td>\n      <td>0</td>\n      <td>0</td>\n    </tr>\n    <tr>\n      <th>3</th>\n      <td>201</td>\n      <td>200</td>\n      <td>0</td>\n      <td>158</td>\n      <td>900</td>\n      <td>68140175</td>\n      <td>0</td>\n      <td>0</td>\n    </tr>\n    <tr>\n      <th>4</th>\n      <td>201</td>\n      <td>200</td>\n      <td>0</td>\n      <td>159</td>\n      <td>900</td>\n      <td>68140182</td>\n      <td>0</td>\n      <td>0</td>\n    </tr>\n    <tr>\n      <th>...</th>\n      <td>...</td>\n      <td>...</td>\n      <td>...</td>\n      <td>...</td>\n      <td>...</td>\n      <td>...</td>\n      <td>...</td>\n      <td>...</td>\n    </tr>\n    <tr>\n      <th>9538</th>\n      <td>401</td>\n      <td>207</td>\n      <td>0</td>\n      <td>267</td>\n      <td>1510</td>\n      <td>68223756</td>\n      <td>1</td>\n      <td>0</td>\n    </tr>\n    <tr>\n      <th>9539</th>\n      <td>401</td>\n      <td>206</td>\n      <td>0</td>\n      <td>207</td>\n      <td>1550</td>\n      <td>68223763</td>\n      <td>1</td>\n      <td>0</td>\n    </tr>\n    <tr>\n      <th>9540</th>\n      <td>401</td>\n      <td>205</td>\n      <td>0</td>\n      <td>145</td>\n      <td>1550</td>\n      <td>68223770</td>\n      <td>1</td>\n      <td>0</td>\n    </tr>\n    <tr>\n      <th>9541</th>\n      <td>400</td>\n      <td>204</td>\n      <td>0</td>\n      <td>62</td>\n      <td>1580</td>\n      <td>68223777</td>\n      <td>1</td>\n      <td>0</td>\n    </tr>\n    <tr>\n      <th>9542</th>\n      <td>400</td>\n      <td>203</td>\n      <td>0</td>\n      <td>12</td>\n      <td>1580</td>\n      <td>68223784</td>\n      <td>1</td>\n      <td>0</td>\n    </tr>\n  </tbody>\n</table>\n<p>9543 rows × 8 columns</p>\n</div>"
     },
     "metadata": {}
    }
   ]
  },
  {
   "cell_type": "code",
   "metadata": {
    "tags": [],
    "cell_id": "00026-df1c7438-52a4-4e7d-9cf0-b15de5d846bc",
    "deepnote_to_be_reexecuted": false,
    "source_hash": "dd3a3715",
    "execution_start": 1627048267735,
    "execution_millis": 120,
    "deepnote_cell_type": "code"
   },
   "source": "variance_X = []\nvariance_Y = []\nstd_Z  = []\nmean_pressure = []\nmean_grip = []\nstd_time = []\nfor f in df_listP:\n    # print(type(f))\n    # print(f.columns)\n\n    # print(f['X'].var())\n    variance_X.append(f['X'].var())\n    variance_Y.append(f['Y'].var())\n    std_Z.append(f['Z'].std())\n    mean_pressure.append(f['Pressure'].mean())\n    mean_grip.append(f['GripAngle'].mean())\n    std_time.append(f['Timestamp'].std())\n\n",
   "execution_count": null,
   "outputs": []
  },
  {
   "cell_type": "code",
   "metadata": {
    "tags": [],
    "cell_id": "00027-5fe0e576-5a6e-446d-8088-d8b97d0c0bc5",
    "deepnote_to_be_reexecuted": false,
    "source_hash": "e2d6e93a",
    "execution_start": 1627048269059,
    "execution_millis": 8,
    "deepnote_cell_type": "code"
   },
   "source": "variance_X",
   "execution_count": null,
   "outputs": [
    {
     "output_type": "execute_result",
     "execution_count": 218,
     "data": {
      "text/plain": "[8914.3725716952,\n 9200.117578875006,\n 36173.10064548719,\n 6822.843078080139,\n 6097.499737708577,\n 7474.5290120580585,\n 8057.943004606125,\n 13362.962480542368,\n 11801.367594625788,\n 8075.881249002759,\n 7197.480523166511,\n 6934.414602937071,\n 7503.5769279057395,\n 4931.574502012839,\n 5805.373944124754,\n 6777.5476056175885,\n 9411.77022299954,\n 4399.6185915402375,\n 8026.748518990466,\n 8978.42966326517,\n 7692.702004603672,\n 6780.820305007627,\n 9330.435227408721,\n 7446.508226118581,\n 27065.295326728316,\n 7356.849016775852,\n 27938.30489876121,\n 9244.19744029345,\n 14895.6834713766,\n 7468.220841559246,\n 8929.290774299341,\n 5425.35091032504,\n 30223.638743584055,\n 5915.752266730526,\n 31416.945058360092,\n 6589.2279562178,\n 7028.266279472293,\n 8370.690715964647,\n 10199.17334289208,\n 4357.403537505567,\n 4750.678737589487,\n 12685.228383619276,\n 6630.398451530456,\n 8287.752645473749,\n 7064.544136048769,\n 8588.119650859255,\n 10129.300665004703,\n 6851.444962082069,\n 16440.992024331987,\n 11845.854651285881,\n 6198.862973865978,\n 9764.010421404355,\n 10077.396389850386,\n 30641.35092236835,\n 29903.19945131483,\n 6383.169221478788,\n 8092.565209924068,\n 8571.772492032185,\n 5737.485820066985,\n 6377.97866383873,\n 6324.549813968484,\n 13794.324351863821]"
     },
     "metadata": {}
    }
   ]
  },
  {
   "cell_type": "code",
   "metadata": {
    "tags": [],
    "cell_id": "00016-45b985db-3a55-4d95-a8a1-89c0e542c1d5",
    "deepnote_cell_type": "code"
   },
   "source": "#########################################################################################################################################################",
   "execution_count": null,
   "outputs": []
  },
  {
   "cell_type": "code",
   "metadata": {
    "tags": [],
    "cell_id": "00007-7cd2a8a8-e277-41da-9e8b-e3b2326b8514",
    "deepnote_to_be_reexecuted": false,
    "source_hash": "1f07577a",
    "execution_start": 1627047851418,
    "execution_millis": 24,
    "deepnote_cell_type": "code"
   },
   "source": "df_listP[0].columns",
   "execution_count": null,
   "outputs": [
    {
     "output_type": "execute_result",
     "execution_count": 212,
     "data": {
      "text/plain": "Index(['X', 'Y', 'Z', 'Pressure', 'GripAngle', 'Timestamp', 'Test ID',\n       'Class'],\n      dtype='object')"
     },
     "metadata": {}
    }
   ]
  },
  {
   "cell_type": "code",
   "metadata": {
    "tags": [],
    "cell_id": "00029-4472d53f-26d1-497a-9d3f-a892400d8560",
    "deepnote_to_be_reexecuted": false,
    "source_hash": "64cff5b9",
    "execution_start": 1627048305072,
    "execution_millis": 9,
    "deepnote_cell_type": "code"
   },
   "source": "len(variance_X)",
   "execution_count": null,
   "outputs": [
    {
     "output_type": "execute_result",
     "execution_count": 219,
     "data": {
      "text/plain": "62"
     },
     "metadata": {}
    }
   ]
  },
  {
   "cell_type": "code",
   "metadata": {
    "tags": [],
    "cell_id": "00031-ac0eca9d-bca5-4944-856c-a37d70689a16",
    "deepnote_to_be_reexecuted": false,
    "source_hash": "e1d37401",
    "execution_start": 1627048544744,
    "execution_millis": 20,
    "deepnote_cell_type": "code"
   },
   "source": "mean_grip",
   "execution_count": null,
   "outputs": [
    {
     "output_type": "execute_result",
     "execution_count": 220,
     "data": {
      "text/plain": "[1158.712145027769,\n 1288.915609969392,\n 1392.8911362284355,\n 1481.8606304811567,\n 1324.48547979798,\n 1589.2831397677212,\n 2228.9687086822387,\n 1452.0177439797212,\n 2004.6099751163042,\n 1254.2721411605023,\n 1138.3673051316193,\n 1222.816018799569,\n 1886.8268173967656,\n 1581.1919268849963,\n 756.456561922366,\n 657.073835125448,\n 1329.6434985632184,\n 1213.1156893819334,\n 2308.9362962962964,\n 999.0010807472595,\n 1317.198565665621,\n 897.2846567967698,\n 1678.7748149888405,\n 1072.9494314057586,\n 1527.5057736720555,\n 927.9845261121857,\n 1117.2005842259007,\n 1276.791294642857,\n 915.4705472289996,\n 2632.271142909558,\n 981.0237684238481,\n 1028.0374357891774,\n 1366.2397820163487,\n 849.8974836905871,\n 1481.7156659765355,\n 1150.0802878076602,\n 977.2892679459844,\n 652.1148697980044,\n 981.2572701398342,\n 1439.735460844006,\n 555.3623649078195,\n 587.8670807453416,\n 1455.87178241865,\n 1023.8019682667202,\n 1132.8785788202829,\n 1571.2426937738246,\n 1413.610361575823,\n 2250.6091370558374,\n 1269.9078341013824,\n 1071.5687361419068,\n 1232.8561509084598,\n 1278.203432248838,\n 1056.1748318924112,\n 1318.0911901081915,\n 1379.7413793103449,\n 630.3710866674725,\n 1469.949041494783,\n 490.0888550393501,\n 1182.2985824511036,\n 720.1033718926901,\n 561.5488431876606,\n 680.894458496206]"
     },
     "metadata": {}
    }
   ]
  },
  {
   "cell_type": "code",
   "metadata": {
    "tags": [],
    "cell_id": "00032-c9576e0f-5a63-42fc-a21a-c66d9437d001",
    "deepnote_to_be_reexecuted": false,
    "source_hash": "6f8d997d",
    "execution_start": 1627052794665,
    "execution_millis": 0,
    "deepnote_cell_type": "code"
   },
   "source": "variance_X = []\nvariance_Y = []\nstd_Z  = []\nmean_pressure = []\nmean_grip = []\nstd_time = []\ndef pairing(df_listP, seq_len =60):  #143*15 = 15s \n     \n      #creating for loop for the sequence\n     for f in df_listP:\n       \n        variance_X.append(f['X'].var())\n        variance_Y.append(f['Y'].var())\n        std_Z.append(f['Z'].std())\n        mean_pressure.append(f['Pressure'].mean())\n        mean_grip.append(f['GripAngle'].mean())\n        std_time.append(f['Timestamp'].std())\n\n",
   "execution_count": null,
   "outputs": []
  },
  {
   "cell_type": "code",
   "metadata": {
    "tags": [],
    "cell_id": "00033-17eea10f-6da5-4beb-a91f-562a8d2ca91d",
    "deepnote_to_be_reexecuted": false,
    "source_hash": "c159ea11",
    "execution_start": 1627052705455,
    "execution_millis": 4,
    "deepnote_cell_type": "code"
   },
   "source": "# df_listP[0].columns",
   "execution_count": null,
   "outputs": []
  },
  {
   "cell_type": "code",
   "metadata": {
    "tags": [],
    "cell_id": "00033-dfa1c013-3e22-4f90-b80f-a27da664c539",
    "deepnote_to_be_reexecuted": false,
    "source_hash": "7f57cc96",
    "execution_start": 1627053311533,
    "execution_millis": 9,
    "deepnote_cell_type": "code"
   },
   "source": "variance_X = []\nvariance_Y = []\nstd_Z  = []\nmean_pressure = []\nmean_grip = []\nstd_time = []\ndef pairing_C(df_listC, seq_len =60):  #143*15 = 15s \n     \n      #creating for loop for the sequence\n     for f in df_listC:\n       \n        variance_X.append(f['X'].var())\n        variance_Y.append(f['Y'].var())\n        std_Z.append(f['Z'].std())\n        mean_pressure.append(f['Pressure'].mean())\n        mean_grip.append(f['GripAngle'].mean())\n        std_time.append(f['Timestamp'].std())\n      return variance_X,variance_Y,std_Z,mean_pressure,mean_grip,std_time\ndef pairing_P(df_listP, seq_len =60):  #143*15 = 15s \n     \n      #creating for loop for the sequence\n      for f in df_listP:\n       \n        variance_X.append(f['X'].var())\n        variance_Y.append(f['Y'].var())\n        std_Z.append(f['Z'].std())\n        mean_pressure.append(f['Pressure'].mean())\n        mean_grip.append(f['GripAngle'].mean())\n        std_time.append(f['Timestamp'].std())\n      return variance_X,variance_Y,std_Z,mean_pressure,mean_grip,std_time",
   "execution_count": null,
   "outputs": [
    {
     "output_type": "error",
     "ename": "IndentationError",
     "evalue": "unindent does not match any outer indentation level (<tokenize>, line 18)",
     "traceback": [
      "\u001b[0;36m  File \u001b[0;32m\"<tokenize>\"\u001b[0;36m, line \u001b[0;32m18\u001b[0m\n\u001b[0;31m    return variance_X,variance_Y,std_Z,mean_pressure,mean_grip,std_time\u001b[0m\n\u001b[0m    ^\u001b[0m\n\u001b[0;31mIndentationError\u001b[0m\u001b[0;31m:\u001b[0m unindent does not match any outer indentation level\n"
     ]
    }
   ]
  },
  {
   "cell_type": "code",
   "metadata": {
    "tags": [],
    "cell_id": "00035-a10c09bb-956b-4576-8887-862cee385719",
    "deepnote_to_be_reexecuted": false,
    "source_hash": "e2d6e93a",
    "execution_start": 1627053122121,
    "execution_millis": 2,
    "deepnote_cell_type": "code"
   },
   "source": "variance_X",
   "execution_count": null,
   "outputs": [
    {
     "output_type": "execute_result",
     "execution_count": 232,
     "data": {
      "text/plain": "[]"
     },
     "metadata": {}
    }
   ]
  },
  {
   "cell_type": "code",
   "metadata": {
    "tags": [],
    "cell_id": "00034-b25696b4-fc40-40d6-b194-cec2fdb9d62c",
    "deepnote_to_be_reexecuted": false,
    "source_hash": "b623e53d",
    "execution_start": 1627052192822,
    "execution_millis": 41,
    "deepnote_cell_type": "code"
   },
   "source": "x_train, x_test, y_train, y_test = train_test_split(x, y, test_size=0.20, random_state=42)",
   "execution_count": null,
   "outputs": []
  },
  {
   "cell_type": "code",
   "metadata": {
    "tags": [],
    "cell_id": "00035-080cf0bd-3e01-4561-8ebf-5925c352b300",
    "deepnote_to_be_reexecuted": false,
    "source_hash": "b623e53d",
    "execution_start": 1627052192864,
    "execution_millis": 0,
    "deepnote_cell_type": "code"
   },
   "source": "from sklearn.ensemble import RandomForestRegressor",
   "execution_count": null,
   "outputs": []
  },
  {
   "cell_type": "code",
   "metadata": {
    "tags": [],
    "cell_id": "00036-e71be88e-2e11-42b8-96b4-35efb4e6510b",
    "deepnote_cell_type": "code"
   },
   "source": "rfc = RandomForestRegressor()",
   "execution_count": null,
   "outputs": []
  },
  {
   "cell_type": "code",
   "metadata": {
    "tags": [],
    "cell_id": "00037-c5fb489b-34da-4579-9f23-87f79a687f29",
    "deepnote_to_be_reexecuted": false,
    "source_hash": "b623e53d",
    "execution_start": 1627052223932,
    "execution_millis": 3,
    "deepnote_cell_type": "code"
   },
   "source": "model = rfc.fit(X_train_d2,y_train)",
   "execution_count": null,
   "outputs": []
  },
  {
   "cell_type": "code",
   "metadata": {
    "tags": [],
    "cell_id": "00038-7c6276ab-c22a-44a2-bd8b-80c6bc7954a9",
    "deepnote_to_be_reexecuted": false,
    "source_hash": "b623e53d",
    "execution_start": 1627052224531,
    "execution_millis": 2,
    "deepnote_cell_type": "code"
   },
   "source": "pred = model.predict(X_test_d2)",
   "execution_count": null,
   "outputs": []
  },
  {
   "cell_type": "code",
   "metadata": {
    "tags": [],
    "cell_id": "00039-7c4139ba-b363-426f-b129-5c6dea5837d1",
    "deepnote_to_be_reexecuted": false,
    "source_hash": "b623e53d",
    "execution_start": 1627052224540,
    "execution_millis": 1,
    "deepnote_cell_type": "code"
   },
   "source": "",
   "execution_count": null,
   "outputs": []
  },
  {
   "cell_type": "code",
   "metadata": {
    "tags": [],
    "cell_id": "00040-2d1d5e40-9a45-4f84-be07-e0667cc27e34",
    "deepnote_cell_type": "code"
   },
   "source": "",
   "execution_count": null,
   "outputs": []
  },
  {
   "cell_type": "markdown",
   "source": "<a style='text-decoration:none;line-height:16px;display:flex;color:#5B5B62;padding:10px;justify-content:end;' href='https://deepnote.com?utm_source=created-in-deepnote-cell&projectId=94e431f8-42fe-427d-ad9d-8b943b5f884e' target=\"_blank\">\n<img alt='Created in deepnote.com' style='display:inline;max-height:16px;margin:0px;margin-right:7.5px;' src='data:image/svg+xml;base64,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' > </img>\nCreated in <span style='font-weight:600;margin-left:4px;'>Deepnote</span></a>",
   "metadata": {
    "tags": [],
    "created_in_deepnote_cell": true,
    "deepnote_cell_type": "markdown"
   }
  }
 ],
 "nbformat": 4,
 "nbformat_minor": 2,
 "metadata": {
  "orig_nbformat": 2,
  "deepnote": {
   "is_reactive": false
  },
  "deepnote_notebook_id": "e4e7c972-6ce2-415f-bd45-5251cb3e1ffa",
  "deepnote_execution_queue": []
 }
}