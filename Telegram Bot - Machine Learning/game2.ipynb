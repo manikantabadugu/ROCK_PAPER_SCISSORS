{
 "cells": [
  {
   "cell_type": "code",
   "execution_count": 3,
   "metadata": {},
   "outputs": [],
   "source": [
    "from sklearn import metrics    \n",
    "import time\n",
    "from sklearn.metrics import accuracy_score\n",
    "from sklearn.metrics import confusion_matrix\n",
    "from sklearn.model_selection import train_test_split\n",
    "import numpy as np \n",
    "from PIL import Image\n",
    "import os\n",
    "import pandas as pd\n",
    "from sklearn.preprocessing import StandardScaler\n",
    "import seaborn as sns\n",
    "from sklearn.tree          import DecisionTreeClassifier\n",
    "from sklearn.ensemble      import RandomForestClassifier\n",
    "from sklearn.ensemble      import ExtraTreesClassifier\n",
    "from sklearn.ensemble      import AdaBoostClassifier\n",
    "from sklearn.ensemble      import GradientBoostingClassifier\n",
    "from sklearn.experimental  import enable_hist_gradient_boosting \n",
    "# Necesary for HistGradientBoostingClassifier\n",
    "from sklearn.ensemble      import HistGradientBoostingClassifier\n",
    "#from xgboost               import XGBClassifier\n",
    "#from lightgbm              import LGBMClassifier\n",
    "#from catboost              import CatBoostClassifier\n",
    "import joblib\n",
    "import sys\n"
   ]
  },
  {
   "cell_type": "code",
   "execution_count": null,
   "metadata": {},
   "outputs": [],
   "source": [
    "#Rock= 0\n",
    "#Paper=1\n",
    "#Scissor=2"
   ]
  },
  {
   "cell_type": "code",
   "execution_count": 4,
   "metadata": {},
   "outputs": [
    {
     "name": "stdout",
     "output_type": "stream",
     "text": [
      "Original shape\n",
      "(662, 1025)\n",
      "Size after concatination\n",
      "(662, 1025)\n",
      "Original shape\n",
      "(638, 1025)\n",
      "Size after concatination\n",
      "(1300, 1025)\n",
      "Original shape\n",
      "(689, 1025)\n",
      "Size after concatination\n",
      "(1989, 1025)\n",
      "Original shape\n",
      "(363, 1025)\n",
      "Size after concatenation\n",
      "(363, 1025)\n",
      "Original shape\n",
      "(328, 1025)\n",
      "Size after concatenation\n",
      "(691, 1025)\n",
      "Original shape\n",
      "(365, 1025)\n",
      "Size after concatenation\n",
      "(1056, 1025)\n"
     ]
    }
   ],
   "source": [
    "path = 'images'\n",
    "data1 = pd.DataFrame ()\n",
    "data2= pd.DataFrame()\n",
    "for folder in os.listdir(path):\n",
    "    if folder == 'train':\n",
    "    \n",
    "        for f in os.listdir (path + '/' + folder):\n",
    "            class_data = np.zeros ( (len(os.listdir (path + '/' + folder + '/' + f )), 1025) ) #creating a numpy array equal to size of training data\n",
    "            print('Original shape')\n",
    "            print (class_data.shape)\n",
    "        \n",
    "            for i, img_name in enumerate (os.listdir (path + '/' + folder + '/' + f )):\n",
    "\n",
    "                img = Image.open (path + '/' + folder + '/' + f + '/' + img_name)\n",
    "                img_arr = np.array (img, dtype = int) #converting image to array which is later stored as csv file  \n",
    "                img_arr = img_arr.flatten()\n",
    "                \n",
    "                class_data [i, :1024] = img_arr\n",
    "                class_data [i, 1024]  = int (f)  #assigning target to the last column for training purposes \n",
    "\n",
    "            class_data = pd.DataFrame (class_data)\n",
    "            data1 = pd.concat ([data1, class_data]) #adding data of each image in each cycle, which is later converted to a pandas dataframe\n",
    "            print('Size after concatination')\n",
    "            print(data1.shape)\n",
    "    else:\n",
    "        for f in os.listdir (path + '/' + folder): #same processs is done to the training data as well\n",
    "            class_data = np.zeros ( (len(os.listdir (path + '/' + folder + '/' + f )), 1025) )\n",
    "            print('Original shape')\n",
    "            print (class_data.shape)\n",
    "        \n",
    "            for i, img_name in enumerate (os.listdir (path + '/' + folder + '/' + f )):\n",
    "\n",
    "                img = Image.open (path + '/' + folder + '/' + f + '/' + img_name)\n",
    "                img_arr = np.array (img, dtype = int)\n",
    "                img_arr = img_arr.flatten()\n",
    "                \n",
    "                class_data [i, :1024] = img_arr\n",
    "                class_data [i, 1024]  = int (f)  #assigning target to the last column \n",
    "\n",
    "            class_data = pd.DataFrame (class_data)\n",
    "            data2 = pd.concat ([data2, class_data]) #a dataframe of test data is stored as well as data2\n",
    "            print('Size after concatenation')\n",
    "            print(data2.shape)\n",
    "\n",
    "            \n",
    "data1.to_csv ('train_game.csv')\n",
    "data2.to_csv('test_game.csv')\n",
    "\n",
    "            \n"
   ]
  },
  {
   "cell_type": "code",
   "execution_count": 5,
   "metadata": {},
   "outputs": [
    {
     "data": {
      "text/plain": [
       "(1056, 1025)"
      ]
     },
     "execution_count": 5,
     "metadata": {},
     "output_type": "execute_result"
    }
   ],
   "source": [
    "data2.iloc[:,-1].unique()\n",
    "data2.shape"
   ]
  },
  {
   "cell_type": "code",
   "execution_count": 6,
   "metadata": {},
   "outputs": [
    {
     "data": {
      "text/plain": [
       "(1989, 1025)"
      ]
     },
     "execution_count": 6,
     "metadata": {},
     "output_type": "execute_result"
    }
   ],
   "source": [
    "\n",
    "#checking target column\n",
    "\n",
    "data1.iloc[:,-1].unique()\n",
    "data1.shape"
   ]
  },
  {
   "cell_type": "code",
   "execution_count": 8,
   "metadata": {},
   "outputs": [],
   "source": [
    "X_tr = data1.iloc[:,:1024]\n",
    "y_tr = data1.iloc[:,1024]\n",
    "\n",
    "X_val = data2.iloc[:,:1024]\n",
    "y_val = data2.iloc[:,1024]"
   ]
  },
  {
   "cell_type": "code",
   "execution_count": 9,
   "metadata": {},
   "outputs": [],
   "source": [
    "scaler = StandardScaler()\n",
    "\n",
    "#normalizing the data\n",
    "data_norm_train = scaler.fit_transform(X_tr)\n",
    "data_norm_test = scaler.transform(X_val)\n"
   ]
  },
  {
   "cell_type": "code",
   "execution_count": null,
   "metadata": {},
   "outputs": [],
   "source": [
    "#sns.histplot(data=data_norm, bins=10)"
   ]
  },
  {
   "cell_type": "code",
   "execution_count": 11,
   "metadata": {},
   "outputs": [],
   "source": [
    "tree_classifiers = {\n",
    "  \"Decision Tree\": DecisionTreeClassifier(),\n",
    "  \"Extra Trees\":   ExtraTreesClassifier(),\n",
    "  \"Random Forest\": RandomForestClassifier(),\n",
    "  \"AdaBoost\":      AdaBoostClassifier(),\n",
    "  \"Skl GBM\":       GradientBoostingClassifier(),\n",
    "  \"Skl HistGBM\":   GradientBoostingClassifier(),\n",
    "  #\"XGBoost\":       XGBClassifier(),\n",
    "  #\"LightGBM\":      LGBMClassifier(),\n",
    "  #\"CatBoost\":      CatBoostClassifier() \n",
    "}"
   ]
  },
  {
   "cell_type": "code",
   "execution_count": 12,
   "metadata": {},
   "outputs": [
    {
     "data": {
      "text/html": [
       "<style  type=\"text/css\" >\n",
       "#T_2940e_row0_col1,#T_2940e_row0_col2{\n",
       "            width:  10em;\n",
       "             height:  80%;\n",
       "            background:  linear-gradient(90deg,#5fba7d 91.5%, transparent 91.5%);\n",
       "        }#T_2940e_row1_col1,#T_2940e_row1_col2{\n",
       "            width:  10em;\n",
       "             height:  80%;\n",
       "            background:  linear-gradient(90deg,#5fba7d 90.3%, transparent 90.3%);\n",
       "        }#T_2940e_row2_col1,#T_2940e_row3_col1{\n",
       "            width:  10em;\n",
       "             height:  80%;\n",
       "            background:  linear-gradient(90deg,#5fba7d 88.1%, transparent 88.1%);\n",
       "        }#T_2940e_row2_col2,#T_2940e_row3_col2{\n",
       "            width:  10em;\n",
       "             height:  80%;\n",
       "            background:  linear-gradient(90deg,#5fba7d 88.0%, transparent 88.0%);\n",
       "        }#T_2940e_row4_col1{\n",
       "            width:  10em;\n",
       "             height:  80%;\n",
       "            background:  linear-gradient(90deg,#5fba7d 79.8%, transparent 79.8%);\n",
       "        }#T_2940e_row4_col2{\n",
       "            width:  10em;\n",
       "             height:  80%;\n",
       "            background:  linear-gradient(90deg,#5fba7d 79.7%, transparent 79.7%);\n",
       "        }#T_2940e_row5_col1{\n",
       "            width:  10em;\n",
       "             height:  80%;\n",
       "            background:  linear-gradient(90deg,#5fba7d 72.9%, transparent 72.9%);\n",
       "        }#T_2940e_row5_col2{\n",
       "            width:  10em;\n",
       "             height:  80%;\n",
       "            background:  linear-gradient(90deg,#5fba7d 72.8%, transparent 72.8%);\n",
       "        }</style><table id=\"T_2940e_\" ><thead>    <tr>        <th class=\"blank level0\" ></th>        <th class=\"col_heading level0 col0\" >Model</th>        <th class=\"col_heading level0 col1\" >Accuracy</th>        <th class=\"col_heading level0 col2\" >Bal Acc.</th>        <th class=\"col_heading level0 col3\" >Time</th>        <th class=\"col_heading level0 col4\" >Confusion Matrix</th>    </tr></thead><tbody>\n",
       "                <tr>\n",
       "                        <th id=\"T_2940e_level0_row0\" class=\"row_heading level0 row0\" >1</th>\n",
       "                        <td id=\"T_2940e_row0_col0\" class=\"data row0 col0\" >Extra Trees</td>\n",
       "                        <td id=\"T_2940e_row0_col1\" class=\"data row0 col1\" >91.477273</td>\n",
       "                        <td id=\"T_2940e_row0_col2\" class=\"data row0 col2\" >91.461201</td>\n",
       "                        <td id=\"T_2940e_row0_col3\" class=\"data row0 col3\" >0.967450</td>\n",
       "                        <td id=\"T_2940e_row0_col4\" class=\"data row0 col4\" >[[342  15   6]\n",
       " [ 25 298   5]\n",
       " [ 24  15 326]]</td>\n",
       "            </tr>\n",
       "            <tr>\n",
       "                        <th id=\"T_2940e_level0_row1\" class=\"row_heading level0 row1\" >2</th>\n",
       "                        <td id=\"T_2940e_row1_col0\" class=\"data row1 col0\" >Random Forest</td>\n",
       "                        <td id=\"T_2940e_row1_col1\" class=\"data row1 col1\" >90.340909</td>\n",
       "                        <td id=\"T_2940e_row1_col2\" class=\"data row1 col2\" >90.331386</td>\n",
       "                        <td id=\"T_2940e_row1_col3\" class=\"data row1 col3\" >0.903826</td>\n",
       "                        <td id=\"T_2940e_row1_col4\" class=\"data row1 col4\" >[[336  17  10]\n",
       " [ 27 295   6]\n",
       " [ 23  19 323]]</td>\n",
       "            </tr>\n",
       "            <tr>\n",
       "                        <th id=\"T_2940e_level0_row2\" class=\"row_heading level0 row2\" >3</th>\n",
       "                        <td id=\"T_2940e_row2_col0\" class=\"data row2 col0\" >Skl GBM</td>\n",
       "                        <td id=\"T_2940e_row2_col1\" class=\"data row2 col1\" >88.068182</td>\n",
       "                        <td id=\"T_2940e_row2_col2\" class=\"data row2 col2\" >87.950147</td>\n",
       "                        <td id=\"T_2940e_row2_col3\" class=\"data row2 col3\" >15.101286</td>\n",
       "                        <td id=\"T_2940e_row2_col4\" class=\"data row2 col4\" >[[328  21  14]\n",
       " [ 34 277  17]\n",
       " [ 22  18 325]]</td>\n",
       "            </tr>\n",
       "            <tr>\n",
       "                        <th id=\"T_2940e_level0_row3\" class=\"row_heading level0 row3\" >4</th>\n",
       "                        <td id=\"T_2940e_row3_col0\" class=\"data row3 col0\" >Skl HistGBM</td>\n",
       "                        <td id=\"T_2940e_row3_col1\" class=\"data row3 col1\" >88.068182</td>\n",
       "                        <td id=\"T_2940e_row3_col2\" class=\"data row3 col2\" >87.960449</td>\n",
       "                        <td id=\"T_2940e_row3_col3\" class=\"data row3 col3\" >15.163475</td>\n",
       "                        <td id=\"T_2940e_row3_col4\" class=\"data row3 col4\" >[[328  21  14]\n",
       " [ 33 278  17]\n",
       " [ 22  19 324]]</td>\n",
       "            </tr>\n",
       "            <tr>\n",
       "                        <th id=\"T_2940e_level0_row4\" class=\"row_heading level0 row4\" >5</th>\n",
       "                        <td id=\"T_2940e_row4_col0\" class=\"data row4 col0\" >Decision Tree</td>\n",
       "                        <td id=\"T_2940e_row4_col1\" class=\"data row4 col1\" >79.829545</td>\n",
       "                        <td id=\"T_2940e_row4_col2\" class=\"data row4 col2\" >79.727270</td>\n",
       "                        <td id=\"T_2940e_row4_col3\" class=\"data row4 col3\" >0.248950</td>\n",
       "                        <td id=\"T_2940e_row4_col4\" class=\"data row4 col4\" >[[288  42  33]\n",
       " [ 43 252  33]\n",
       " [ 19  43 303]]</td>\n",
       "            </tr>\n",
       "            <tr>\n",
       "                        <th id=\"T_2940e_level0_row5\" class=\"row_heading level0 row5\" >6</th>\n",
       "                        <td id=\"T_2940e_row5_col0\" class=\"data row5 col0\" >AdaBoost</td>\n",
       "                        <td id=\"T_2940e_row5_col1\" class=\"data row5 col1\" >72.916667</td>\n",
       "                        <td id=\"T_2940e_row5_col2\" class=\"data row5 col2\" >72.769875</td>\n",
       "                        <td id=\"T_2940e_row5_col3\" class=\"data row5 col3\" >2.095662</td>\n",
       "                        <td id=\"T_2940e_row5_col4\" class=\"data row5 col4\" >[[263  70  30]\n",
       " [ 79 225  24]\n",
       " [ 21  62 282]]</td>\n",
       "            </tr>\n",
       "    </tbody></table>"
      ],
      "text/plain": [
       "<pandas.io.formats.style.Styler at 0x176844d8490>"
      ]
     },
     "execution_count": 12,
     "metadata": {},
     "output_type": "execute_result"
    }
   ],
   "source": [
    "x_train, x_test, y_train, y_test = train_test_split(X_tr, y_tr, test_size=0.2, random_state=42, stratify=y_tr)\n",
    "\n",
    "\n",
    "\n",
    "\n",
    "results = pd.DataFrame({'Model': [], 'Accuracy': [], 'Bal Acc.': [], 'Time': []})\n",
    "\n",
    "\n",
    "for model_name, model in tree_classifiers.items(): # FOR EVERY PIPELINE (PREPRO + MODEL) -> TRAIN WITH TRAIN DATA (x_train)\n",
    "    start_time = time.time()\n",
    "    model.fit(x_train, y_train)\n",
    "    pred = model.predict(X_val)    # GET PREDICTIONS USING x_val\n",
    "    total_time = time.time() - start_time\n",
    "\n",
    "    results = results.append({\"Model\":    model_name,\n",
    "                              \"Confusion Matrix\": confusion_matrix(y_val, pred),\n",
    "                              \"Accuracy\": metrics.accuracy_score(y_val, pred)*100,\n",
    "                              \"Bal Acc.\": metrics.balanced_accuracy_score(y_val, pred)*100,\n",
    "                              \"Time\":     total_time},\n",
    "                              ignore_index=True)\n",
    "    \n",
    "                              \n",
    "                              \n",
    "\n",
    " \n",
    "\n",
    "\n",
    "\n",
    "results_ord = results.sort_values(by=['Accuracy'], ascending=False, ignore_index=True)\n",
    "results_ord.index += 1 \n",
    "results_ord.style.bar(subset=['Accuracy', 'Bal Acc.'], vmin=0, vmax=100, color='#5fba7d')"
   ]
  },
  {
   "cell_type": "code",
   "execution_count": 13,
   "metadata": {},
   "outputs": [
    {
     "data": {
      "text/plain": [
       "'Extra Trees'"
      ]
     },
     "execution_count": 13,
     "metadata": {},
     "output_type": "execute_result"
    }
   ],
   "source": [
    "#Automatically chooses the best model\n",
    "\n",
    "# Your code goes here\n",
    "\n",
    "#results_ord = results.sort_values(by=['Accuracy'], ascending=False, ignore_index=True)\n",
    "#results_ord.index += 1 \n",
    "#results_ord.style.bar(subset=['Accuracy', 'Bal Acc.'], vmin=0, vmax=100, color='#5fba7d')\n",
    "\n",
    "best_model_string = results_ord.iloc[0,0]\n",
    "best_model_string"
   ]
  },
  {
   "cell_type": "code",
   "execution_count": 14,
   "metadata": {},
   "outputs": [
    {
     "data": {
      "text/plain": [
       "['best_model_2.sav']"
      ]
     },
     "execution_count": 14,
     "metadata": {},
     "output_type": "execute_result"
    }
   ],
   "source": [
    "#saving model\n",
    "\n",
    "\n",
    "model = tree_classifiers[best_model_string]\n",
    "model_choice = 'best_model_2.sav'\n",
    "joblib.dump(model, model_choice)"
   ]
  },
  {
   "cell_type": "code",
   "execution_count": 15,
   "metadata": {},
   "outputs": [
    {
     "name": "stdout",
     "output_type": "stream",
     "text": [
      "0.9147727272727273\n"
     ]
    }
   ],
   "source": [
    "#loading model\n",
    "loaded_model = joblib.load(model_choice)\n",
    "result = loaded_model.score(X_val, y_val)\n",
    "print(result)"
   ]
  },
  {
   "cell_type": "code",
   "execution_count": 17,
   "metadata": {},
   "outputs": [
    {
     "name": "stderr",
     "output_type": "stream",
     "text": [
      "ERROR: Could not find a version that satisfies the requirement cv2\n",
      "ERROR: No matching distribution found for cv2\n"
     ]
    },
    {
     "ename": "ModuleNotFoundError",
     "evalue": "No module named 'cv2'",
     "output_type": "error",
     "traceback": [
      "\u001b[1;31m---------------------------------------------------------------------------\u001b[0m",
      "\u001b[1;31mModuleNotFoundError\u001b[0m                       Traceback (most recent call last)",
      "\u001b[1;32m<ipython-input-17-fcdd023e0db6>\u001b[0m in \u001b[0;36m<module>\u001b[1;34m\u001b[0m\n\u001b[0;32m      1\u001b[0m \u001b[0mget_ipython\u001b[0m\u001b[1;33m(\u001b[0m\u001b[1;33m)\u001b[0m\u001b[1;33m.\u001b[0m\u001b[0msystem\u001b[0m\u001b[1;33m(\u001b[0m\u001b[1;34m'pip install cv2'\u001b[0m\u001b[1;33m)\u001b[0m\u001b[1;33m\u001b[0m\u001b[1;33m\u001b[0m\u001b[0m\n\u001b[1;32m----> 2\u001b[1;33m \u001b[1;32mimport\u001b[0m \u001b[0mcv2\u001b[0m\u001b[1;33m\u001b[0m\u001b[1;33m\u001b[0m\u001b[0m\n\u001b[0m\u001b[0;32m      3\u001b[0m \u001b[1;32mimport\u001b[0m \u001b[0mmatplotlib\u001b[0m\u001b[1;33m.\u001b[0m\u001b[0mpyplot\u001b[0m \u001b[1;32mas\u001b[0m \u001b[0mplt\u001b[0m\u001b[1;33m\u001b[0m\u001b[1;33m\u001b[0m\u001b[0m\n\u001b[0;32m      4\u001b[0m \u001b[1;33m\u001b[0m\u001b[0m\n\u001b[0;32m      5\u001b[0m \u001b[0mrawimage\u001b[0m \u001b[1;33m=\u001b[0m \u001b[0mcv2\u001b[0m\u001b[1;33m.\u001b[0m\u001b[0mimread\u001b[0m\u001b[1;33m(\u001b[0m\u001b[1;34mr'C:\\Users\\User\\Documents\\GitHub\\practice folders\\Buildweek2.1\\Telegram Bot Project\\Telegram Bot - Machine Learning\\WIN_20210813_16_14_03_Pro.jpg'\u001b[0m\u001b[1;33m)\u001b[0m\u001b[1;33m\u001b[0m\u001b[1;33m\u001b[0m\u001b[0m\n",
      "\u001b[1;31mModuleNotFoundError\u001b[0m: No module named 'cv2'"
     ]
    }
   ],
   "source": [
    "!pip install cv2\n",
    "import cv2\n",
    "import matplotlib.pyplot as plt\n",
    "\n",
    "rawimage = cv2.imread(r'C:\\Users\\User\\Documents\\GitHub\\practice folders\\Buildweek2.1\\Telegram Bot Project\\Telegram Bot - Machine Learning\\WIN_20210813_16_14_03_Pro.jpg')\n",
    "\n",
    "plt.imshow(rawimage, cmap= 'gray')\n"
   ]
  },
  {
   "cell_type": "code",
   "execution_count": null,
   "metadata": {},
   "outputs": [
    {
     "data": {
      "text/plain": [
       "(720, 1280, 3)"
      ]
     },
     "execution_count": 8,
     "metadata": {},
     "output_type": "execute_result"
    }
   ],
   "source": [
    "rawimage.shape"
   ]
  },
  {
   "cell_type": "code",
   "execution_count": null,
   "metadata": {},
   "outputs": [
    {
     "data": {
      "text/plain": [
       "<matplotlib.image.AxesImage at 0x1afc5ad3610>"
      ]
     },
     "execution_count": 10,
     "metadata": {},
     "output_type": "execute_result"
    },
    {
     "data": {
      "image/png": "[encoded data removed]",
      "text/plain": [
       "<Figure size 432x288 with 1 Axes>"
      ]
     },
     "metadata": {
      "needs_background": "light"
     },
     "output_type": "display_data"
    }
   ],
   "source": [
    "#Transform the Image into 32 x 32 skeleton using transform_image.py\n",
    "\n",
    "sys.path.append(r\"C:\\Users\\User\\Documents\\GitHub\\practice folders\\Buildweek2.1\\Telegram Bot Project\\Telegram Bot - Machine Learning\\handgestures\")\n",
    "from handgestures.transform_image import transform_single_image\n",
    "\n",
    "\n",
    "img = transform_single_image(rawimage)\n",
    "\n",
    "plt.imshow(img, cmap=\"gray\")\n",
    "\n",
    "\n"
   ]
  },
  {
   "cell_type": "code",
   "execution_count": null,
   "metadata": {},
   "outputs": [
    {
     "data": {
      "text/plain": [
       "(32, 32)"
      ]
     },
     "execution_count": 11,
     "metadata": {},
     "output_type": "execute_result"
    }
   ],
   "source": [
    "img.shape"
   ]
  },
  {
   "cell_type": "code",
   "execution_count": null,
   "metadata": {},
   "outputs": [
    {
     "ename": "NameError",
     "evalue": "name 'tree_classifiers' is not defined",
     "output_type": "error",
     "traceback": [
      "\u001b[1;31m---------------------------------------------------------------------------\u001b[0m",
      "\u001b[1;31mNameError\u001b[0m                                 Traceback (most recent call last)",
      "\u001b[1;32m<ipython-input-12-b1c4fad86a9b>\u001b[0m in \u001b[0;36m<module>\u001b[1;34m\u001b[0m\n\u001b[0;32m      1\u001b[0m \u001b[1;31m#TEMPORARY - REPLACE WITH IMPORTING FROM JOBLIB\u001b[0m\u001b[1;33m\u001b[0m\u001b[1;33m\u001b[0m\u001b[1;33m\u001b[0m\u001b[0m\n\u001b[0;32m      2\u001b[0m \u001b[1;33m\u001b[0m\u001b[0m\n\u001b[1;32m----> 3\u001b[1;33m \u001b[0mmodel\u001b[0m \u001b[1;33m=\u001b[0m \u001b[0mtree_classifiers\u001b[0m\u001b[1;33m[\u001b[0m\u001b[0mresults_ord\u001b[0m\u001b[1;33m.\u001b[0m\u001b[0miloc\u001b[0m\u001b[1;33m[\u001b[0m\u001b[1;36m0\u001b[0m\u001b[1;33m,\u001b[0m\u001b[1;36m0\u001b[0m\u001b[1;33m]\u001b[0m\u001b[1;33m]\u001b[0m\u001b[1;33m\u001b[0m\u001b[1;33m\u001b[0m\u001b[0m\n\u001b[0m\u001b[0;32m      4\u001b[0m \u001b[1;33m\u001b[0m\u001b[0m\n",
      "\u001b[1;31mNameError\u001b[0m: name 'tree_classifiers' is not defined"
     ]
    }
   ],
   "source": [
    "#TEMPORARY - REPLACE WITH IMPORTING FROM JOBLIB\n",
    "\n",
    "model = tree_classifiers[results_ord.iloc[0,0]]\n",
    "\n"
   ]
  },
  {
   "cell_type": "code",
   "execution_count": null,
   "metadata": {},
   "outputs": [
    {
     "data": {
      "text/plain": [
       "(1024,)"
      ]
     },
     "execution_count": 65,
     "metadata": {},
     "output_type": "execute_result"
    }
   ],
   "source": [
    "#Transfrom the skeleton image into a flatenned array\n",
    "img_arr = np.array(img, dtype = int)\n",
    "img_arr = img_arr.flatten()\n",
    "class_data_trail= pd.DataFrame(img_arr)\n",
    "class_data_trail=class_data_trail.transpose()\n",
    "\n",
    "img_arr.shape\n"
   ]
  },
  {
   "cell_type": "code",
   "execution_count": null,
   "metadata": {},
   "outputs": [
    {
     "name": "stdout",
     "output_type": "stream",
     "text": [
      "[2.]\n",
      "You choose SCISSORS\n"
     ]
    }
   ],
   "source": [
    "#Use the Chosen MACHINE LEARNING MODEL to classify the input\n",
    "\n",
    "\n",
    "rps_input_predict = model.predict(class_data_trail)\n",
    "\n",
    "print(rps_input_predict[0])\n",
    "\n",
    "if int(rps_input_predict[0]) == 0:\n",
    "    print(\"You choose ROCK!\")\n",
    "elif int(rps_input_predict[0]) == 1:\n",
    "    print(\"You choose PAPER!\")\n",
    "else:\n",
    "    print(\"You choose SCISSORS\")"
   ]
  },
  {
   "cell_type": "code",
   "execution_count": null,
   "metadata": {},
   "outputs": [],
   "source": []
  }
 ],
 "metadata": {
  "interpreter": {
   "hash": "0f19baa5fd3dcddffdf6ee50ac18851cc01142947c60edfe2f03a1ab8197d4f4"
  },
  "kernelspec": {
   "display_name": "Python 3",
   "language": "python",
   "name": "python3"
  },
  "language_info": {
   "codemirror_mode": {
    "name": "ipython",
    "version": 3
   },
   "file_extension": ".py",
   "mimetype": "text/x-python",
   "name": "python",
   "nbconvert_exporter": "python",
   "pygments_lexer": "ipython3",
   "version": "3.8.8"
  }
 },
 "nbformat": 4,
 "nbformat_minor": 2
}
