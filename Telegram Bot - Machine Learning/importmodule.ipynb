{
 "cells": [
  {
   "cell_type": "code",
   "execution_count": 4,
   "source": [
    "import sys"
   ],
   "outputs": [],
   "metadata": {}
  },
  {
   "cell_type": "code",
   "execution_count": 6,
   "source": [
    "for line in sys.path:\r\n",
    "    print (line)"
   ],
   "outputs": [
    {
     "output_type": "stream",
     "name": "stdout",
     "text": [
      "c:\\Users\\ASUS\\Documents\\Codes\\Telegram Bot 2\n",
      "c:\\Users\\ASUS\\.vscode\\extensions\\ms-toolsai.jupyter-2021.8.1195043623\\pythonFiles\n",
      "c:\\Users\\ASUS\\.vscode\\extensions\\ms-toolsai.jupyter-2021.8.1195043623\\pythonFiles\\lib\\python\n",
      "C:\\Users\\ASUS\\anaconda3\\envs\\myenv\\python38.zip\n",
      "C:\\Users\\ASUS\\anaconda3\\envs\\myenv\\DLLs\n",
      "C:\\Users\\ASUS\\anaconda3\\envs\\myenv\\lib\n",
      "C:\\Users\\ASUS\\anaconda3\\envs\\myenv\n",
      "\n",
      "C:\\Users\\ASUS\\AppData\\Roaming\\Python\\Python38\\site-packages\n",
      "C:\\Users\\ASUS\\anaconda3\\envs\\myenv\\lib\\site-packages\n",
      "C:\\Users\\ASUS\\anaconda3\\envs\\myenv\\lib\\site-packages\\win32\n",
      "C:\\Users\\ASUS\\anaconda3\\envs\\myenv\\lib\\site-packages\\win32\\lib\n",
      "C:\\Users\\ASUS\\anaconda3\\envs\\myenv\\lib\\site-packages\\Pythonwin\n",
      "C:\\Users\\ASUS\\anaconda3\\envs\\myenv\\lib\\site-packages\\IPython\\extensions\n",
      "C:\\Users\\ASUS\\.ipython\n"
     ]
    }
   ],
   "metadata": {}
  },
  {
   "cell_type": "code",
   "execution_count": null,
   "source": [],
   "outputs": [],
   "metadata": {}
  }
 ],
 "metadata": {
  "orig_nbformat": 4,
  "language_info": {
   "name": "python",
   "version": "3.8.10",
   "mimetype": "text/x-python",
   "codemirror_mode": {
    "name": "ipython",
    "version": 3
   },
   "pygments_lexer": "ipython3",
   "nbconvert_exporter": "python",
   "file_extension": ".py"
  },
  "kernelspec": {
   "name": "python3",
   "display_name": "Python 3.8.10 64-bit ('myenv': conda)"
  },
  "interpreter": {
   "hash": "850c152f8f84f3548ed5f09fd834180be13dced819bcdf283d955f3afcab8cf5"
  }
 },
 "nbformat": 4,
 "nbformat_minor": 2
}